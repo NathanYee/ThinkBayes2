{
 "cells": [
  {
   "cell_type": "markdown",
   "metadata": {},
   "source": [
    "# Bayesian Linear Regression \n",
    "Computational bayes final project.  \n",
    "Nathan Yee  \n",
    "Uma Desai  "
   ]
  },
  {
   "cell_type": "markdown",
   "metadata": {},
   "source": [
    "First example to gain understanding is taken from Cypress Frankenfeld.\n",
    "http://allendowney.blogspot.com/2015/04/two-hour-marathon-by-2041-probably.html"
   ]
  },
  {
   "cell_type": "code",
   "execution_count": 1,
   "metadata": {
    "collapsed": true
   },
   "outputs": [],
   "source": [
    "from __future__ import print_function, division\n",
    "\n",
    "% matplotlib inline\n",
    "import warnings\n",
    "warnings.filterwarnings('ignore')\n",
    "\n",
    "import math\n",
    "import numpy as np\n",
    "\n",
    "from thinkbayes2 import Pmf, Cdf, Suite, Joint, EvalNormalPdf\n",
    "import thinkplot\n",
    "import pandas as pd\n",
    "import matplotlib.pyplot as plt"
   ]
  },
  {
   "cell_type": "markdown",
   "metadata": {},
   "source": [
    "Load data from csv file"
   ]
  },
  {
   "cell_type": "code",
   "execution_count": 2,
   "metadata": {
    "collapsed": false
   },
   "outputs": [
    {
     "data": {
      "text/html": [
       "<div>\n",
       "<table border=\"1\" class=\"dataframe\">\n",
       "  <thead>\n",
       "    <tr style=\"text-align: right;\">\n",
       "      <th></th>\n",
       "      <th>age</th>\n",
       "      <th>height</th>\n",
       "    </tr>\n",
       "  </thead>\n",
       "  <tbody>\n",
       "    <tr>\n",
       "      <th>0</th>\n",
       "      <td>18</td>\n",
       "      <td>76.1</td>\n",
       "    </tr>\n",
       "    <tr>\n",
       "      <th>1</th>\n",
       "      <td>19</td>\n",
       "      <td>77.0</td>\n",
       "    </tr>\n",
       "    <tr>\n",
       "      <th>2</th>\n",
       "      <td>20</td>\n",
       "      <td>78.1</td>\n",
       "    </tr>\n",
       "    <tr>\n",
       "      <th>3</th>\n",
       "      <td>21</td>\n",
       "      <td>78.2</td>\n",
       "    </tr>\n",
       "    <tr>\n",
       "      <th>4</th>\n",
       "      <td>22</td>\n",
       "      <td>78.8</td>\n",
       "    </tr>\n",
       "    <tr>\n",
       "      <th>5</th>\n",
       "      <td>23</td>\n",
       "      <td>79.7</td>\n",
       "    </tr>\n",
       "    <tr>\n",
       "      <th>6</th>\n",
       "      <td>24</td>\n",
       "      <td>79.9</td>\n",
       "    </tr>\n",
       "    <tr>\n",
       "      <th>7</th>\n",
       "      <td>25</td>\n",
       "      <td>81.1</td>\n",
       "    </tr>\n",
       "    <tr>\n",
       "      <th>8</th>\n",
       "      <td>26</td>\n",
       "      <td>81.2</td>\n",
       "    </tr>\n",
       "    <tr>\n",
       "      <th>9</th>\n",
       "      <td>27</td>\n",
       "      <td>81.8</td>\n",
       "    </tr>\n",
       "    <tr>\n",
       "      <th>10</th>\n",
       "      <td>28</td>\n",
       "      <td>82.8</td>\n",
       "    </tr>\n",
       "    <tr>\n",
       "      <th>11</th>\n",
       "      <td>29</td>\n",
       "      <td>83.5</td>\n",
       "    </tr>\n",
       "  </tbody>\n",
       "</table>\n",
       "</div>"
      ],
      "text/plain": [
       "    age  height\n",
       "0    18    76.1\n",
       "1    19    77.0\n",
       "2    20    78.1\n",
       "3    21    78.2\n",
       "4    22    78.8\n",
       "5    23    79.7\n",
       "6    24    79.9\n",
       "7    25    81.1\n",
       "8    26    81.2\n",
       "9    27    81.8\n",
       "10   28    82.8\n",
       "11   29    83.5"
      ]
     },
     "execution_count": 2,
     "metadata": {},
     "output_type": "execute_result"
    }
   ],
   "source": [
    "df = pd.read_csv('ageVsHeight.csv', skiprows=0, delimiter='\\t')\n",
    "df"
   ]
  },
  {
   "cell_type": "markdown",
   "metadata": {},
   "source": [
    "Create x and y vectors. x is the ages, y is the heights"
   ]
  },
  {
   "cell_type": "code",
   "execution_count": 3,
   "metadata": {
    "collapsed": false
   },
   "outputs": [],
   "source": [
    "ages = np.array(df['age'])\n",
    "heights = np.array(df['height'])"
   ]
  },
  {
   "cell_type": "markdown",
   "metadata": {},
   "source": [
    "Abstract least squares function using a function"
   ]
  },
  {
   "cell_type": "code",
   "execution_count": 4,
   "metadata": {
    "collapsed": true
   },
   "outputs": [],
   "source": [
    "def leastSquares(x, y):\n",
    "    \"\"\"\n",
    "    leastSquares takes in two arrays of values. Then it returns the slope and intercept\n",
    "    of the least squares of the two.\n",
    "    \n",
    "    Args:\n",
    "        x (numpy array): numpy array of values.\n",
    "        y (numpy array): numpy array of values.\n",
    "        \n",
    "    Returns:\n",
    "        slope, intercept (tuple): returns a tuple of floats.\n",
    "    \"\"\"\n",
    "    A = np.vstack([x, np.ones(len(x))]).T\n",
    "    slope, intercept = np.linalg.lstsq(A, y)[0]\n",
    "    return slope, intercept"
   ]
  },
  {
   "cell_type": "markdown",
   "metadata": {},
   "source": [
    "Use the leastSquares function to get a slope and intercept. Then use the slope and intercept to calculate the size of our alpha and beta ranges"
   ]
  },
  {
   "cell_type": "code",
   "execution_count": 5,
   "metadata": {
    "collapsed": false
   },
   "outputs": [
    {
     "name": "stdout",
     "output_type": "stream",
     "text": [
      "0.634965034965 64.9283216783\n"
     ]
    }
   ],
   "source": [
    "slope, intercept = leastSquares(ages, heights)\n",
    "print(slope, intercept)\n",
    "alpha_range = .005 * intercept\n",
    "beta_range = .005 * slope"
   ]
  },
  {
   "cell_type": "markdown",
   "metadata": {},
   "source": [
    "Visualize the slope and intercept on the same plot as the data so make sure it is working correctly"
   ]
  },
  {
   "cell_type": "code",
   "execution_count": 6,
   "metadata": {
    "collapsed": false
   },
   "outputs": [
    {
     "data": {
      "image/png": "[encoded data removed]",
      "text/plain": [
       "<matplotlib.figure.Figure at 0x7ff08e7f07f0>"
      ]
     },
     "metadata": {},
     "output_type": "display_data"
    }
   ],
   "source": [
    "plt.plot(ages, heights, 'o', label='Original data', markersize=10)\n",
    "plt.plot(ages, slope*ages + intercept, 'r', label='Fitted line')\n",
    "plt.legend()\n",
    "plt.show()"
   ]
  },
  {
   "cell_type": "markdown",
   "metadata": {},
   "source": [
    "Make range of alphas (intercepts), betas (slopes), and sigmas (errors)"
   ]
  },
  {
   "cell_type": "code",
   "execution_count": 7,
   "metadata": {
    "collapsed": false
   },
   "outputs": [],
   "source": [
    "alphas = np.linspace(intercept - alpha_range, intercept + alpha_range, 10)\n",
    "betas = np.linspace(slope - beta_range, slope + beta_range, 10)\n",
    "sigmas = np.linspace(2, 4, 10)\n",
    "\n",
    "# alphas = np.linspace(intercept * (1 - alpha_range),\n",
    "#                      intercept * (1 + alpha_range),\n",
    "#                      5)\n",
    "# betas = np.linspace(slope * (1 - beta_range),\n",
    "#                     slope * (1 + beta_range),\n",
    "#                     5)\n",
    "# sigmas = np.linspace(.1, .2, 5)"
   ]
  },
  {
   "cell_type": "markdown",
   "metadata": {},
   "source": [
    "Turn those alphas, betas, and sigmas into our hypotheses"
   ]
  },
  {
   "cell_type": "code",
   "execution_count": 8,
   "metadata": {
    "collapsed": false
   },
   "outputs": [],
   "source": [
    "hypos = ((alpha, beta, sigma) for alpha in alphas \n",
    "         for beta in betas for sigma in sigmas)"
   ]
  },
  {
   "cell_type": "markdown",
   "metadata": {},
   "source": [
    "Make data"
   ]
  },
  {
   "cell_type": "code",
   "execution_count": 9,
   "metadata": {
    "collapsed": false
   },
   "outputs": [],
   "source": [
    "data = [(age, height) for age in ages for height in heights]"
   ]
  },
  {
   "cell_type": "markdown",
   "metadata": {
    "collapsed": true
   },
   "source": [
    "Next make age class where likelihood is calculated based on error from data"
   ]
  },
  {
   "cell_type": "code",
   "execution_count": 10,
   "metadata": {
    "collapsed": true
   },
   "outputs": [],
   "source": [
    "class leastSquaresHypos(Suite):\n",
    "    def Likelihood(self, data, hypo):\n",
    "        \"\"\"\n",
    "        Likelihood calculates the probability of a particular line (hypo)\n",
    "        based on data (ages Vs height) of our original dataset. This is\n",
    "        done with a normal pmf as each hypo also contains a sigma.\n",
    "        \n",
    "        Args:\n",
    "            data (tuple): tuple that contains ages (float), heights (float)\n",
    "            hypo (tuple): intercept (float), slope (float), sigma (float)\n",
    "            \n",
    "        Returns:\n",
    "            P(data|hypo)\n",
    "        \"\"\"\n",
    "        intercept, slope, sigma = hypo\n",
    "        total_likelihood = 1\n",
    "        for age, measured_height in data:\n",
    "            hypothesized_height = slope * age + intercept\n",
    "            error = measured_height - hypothesized_height\n",
    "            total_likelihood *= EvalNormalPdf(error, mu=0, sigma=sigma)\n",
    "        return total_likelihood\n",
    "        "
   ]
  },
  {
   "cell_type": "code",
   "execution_count": 11,
   "metadata": {
    "collapsed": false
   },
   "outputs": [],
   "source": [
    "LeastSquaresHypos = leastSquaresHypos(hypos)"
   ]
  },
  {
   "cell_type": "code",
   "execution_count": 12,
   "metadata": {
    "collapsed": false
   },
   "outputs": [],
   "source": [
    "for item in data:\n",
    "    LeastSquaresHypos.Update([item])"
   ]
  },
  {
   "cell_type": "code",
   "execution_count": 13,
   "metadata": {
    "collapsed": false
   },
   "outputs": [
    {
     "data": {
      "text/plain": [
       "0.00886058492084809"
      ]
     },
     "execution_count": 13,
     "metadata": {},
     "output_type": "execute_result"
    }
   ],
   "source": [
    "LeastSquaresHypos[LeastSquaresHypos.MaximumLikelihood()]"
   ]
  },
  {
   "cell_type": "code",
   "execution_count": 14,
   "metadata": {
    "collapsed": true
   },
   "outputs": [],
   "source": [
    "def getHeights(hypo_samples, random_months):\n",
    "    random_heights = np.zeros(len(random_months))\n",
    "    for i in range(len(random_heights)):\n",
    "        intercept = hypo_samples[i][0]\n",
    "        slope = hypo_samples[i][1]\n",
    "        sigma = hypo_samples[i][2]\n",
    "        month = random_months[i]\n",
    "        random_heights[i] = np.random.normal((slope * month + intercept), sigma, 1)\n",
    "    return random_heights\n",
    "\n",
    "def getRandomData(start_month, end_month, n, LeastSquaresHypos):\n",
    "    \"\"\"\n",
    "    n - number of samples\n",
    "    \"\"\"\n",
    "    random_hypos = LeastSquaresHypos.Sample(n)\n",
    "    random_months = np.random.uniform(start_month, end_month, n)\n",
    "    random_heights = getHeights(random_hypos, random_months)\n",
    "    return random_months, random_heights"
   ]
  },
  {
   "cell_type": "code",
   "execution_count": 31,
   "metadata": {
    "collapsed": true
   },
   "outputs": [],
   "source": [
    "random_months, random_heights = getRandomData(29, 40, 100, LeastSquaresHypos)"
   ]
  },
  {
   "cell_type": "code",
   "execution_count": 34,
   "metadata": {
    "collapsed": false
   },
   "outputs": [],
   "source": [
    "hori_range, hori_step = np.linspace(29, 40 , retstep=True)\n",
    "vert_range, vert_step = np.linspace(75, 100, retstep=True)\n",
    "\n",
    "buckets = dict()\n",
    "keys = [(hori, vert) for hori in hori_range for vert in vert_range]\n",
    "\n",
    "for key in keys:\n",
    "    buckets[key] = 0\n",
    "\n",
    "    \n",
    "    \n",
    "for month, height in zip(random_months, random_heights):\n",
    "        for key in buckets:\n",
    "            if month > key[0] - hori_step and month < key[0] + hori_step:\n",
    "                if height > key[1] - vert_step and month < key[1] + vert_step:\n",
    "                    buckets[key] += 1\n",
    "                    break"
   ]
  },
  {
   "cell_type": "code",
   "execution_count": 35,
   "metadata": {
    "collapsed": false,
    "scrolled": false
   },
   "outputs": [
    {
     "data": {
      "image/png": "[encoded data removed]",
      "text/plain": [
       "<matplotlib.figure.Figure at 0x7ff08e146f98>"
      ]
     },
     "metadata": {},
     "output_type": "display_data"
    }
   ],
   "source": [
    "plt.plot(random_months, random_heights, 'o', label='Random Sampling')\n",
    "plt.plot(ages, heights, 'o', label='Original data', markersize=10)\n",
    "plt.plot(ages, slope*ages + intercept, 'r', label='Fitted line')\n",
    "# plt.legend()\n",
    "plt.show()"
   ]
  },
  {
   "cell_type": "code",
   "execution_count": 18,
   "metadata": {
    "collapsed": false
   },
   "outputs": [
    {
     "name": "stdout",
     "output_type": "stream",
     "text": [
      "Help on function pcolor in module matplotlib.pyplot:\n",
      "\n",
      "pcolor(*args, **kwargs)\n",
      "    Create a pseudocolor plot of a 2-D array.\n",
      "    \n",
      "    .. note::\n",
      "    \n",
      "        pcolor can be very slow for large arrays; consider\n",
      "        using the similar but much faster\n",
      "        :func:`~matplotlib.pyplot.pcolormesh` instead.\n",
      "    \n",
      "    Call signatures::\n",
      "    \n",
      "      pcolor(C, **kwargs)\n",
      "      pcolor(X, Y, C, **kwargs)\n",
      "    \n",
      "    *C* is the array of color values.\n",
      "    \n",
      "    *X* and *Y*, if given, specify the (*x*, *y*) coordinates of\n",
      "    the colored quadrilaterals; the quadrilateral for C[i,j] has\n",
      "    corners at::\n",
      "    \n",
      "      (X[i,   j],   Y[i,   j]),\n",
      "      (X[i,   j+1], Y[i,   j+1]),\n",
      "      (X[i+1, j],   Y[i+1, j]),\n",
      "      (X[i+1, j+1], Y[i+1, j+1]).\n",
      "    \n",
      "    Ideally the dimensions of *X* and *Y* should be one greater\n",
      "    than those of *C*; if the dimensions are the same, then the\n",
      "    last row and column of *C* will be ignored.\n",
      "    \n",
      "    Note that the column index corresponds to the\n",
      "    *x*-coordinate, and the row index corresponds to *y*; for\n",
      "    details, see the :ref:`Grid Orientation\n",
      "    <axes-pcolor-grid-orientation>` section below.\n",
      "    \n",
      "    If either or both of *X* and *Y* are 1-D arrays or column vectors,\n",
      "    they will be expanded as needed into the appropriate 2-D arrays,\n",
      "    making a rectangular grid.\n",
      "    \n",
      "    *X*, *Y* and *C* may be masked arrays.  If either C[i, j], or one\n",
      "    of the vertices surrounding C[i,j] (*X* or *Y* at [i, j], [i+1, j],\n",
      "    [i, j+1],[i+1, j+1]) is masked, nothing is plotted.\n",
      "    \n",
      "    Keyword arguments:\n",
      "    \n",
      "      *cmap*: [ *None* | Colormap ]\n",
      "        A :class:`matplotlib.colors.Colormap` instance. If *None*, use\n",
      "        rc settings.\n",
      "    \n",
      "      *norm*: [ *None* | Normalize ]\n",
      "        An :class:`matplotlib.colors.Normalize` instance is used\n",
      "        to scale luminance data to 0,1. If *None*, defaults to\n",
      "        :func:`normalize`.\n",
      "    \n",
      "      *vmin*/*vmax*: [ *None* | scalar ]\n",
      "        *vmin* and *vmax* are used in conjunction with *norm* to\n",
      "        normalize luminance data.  If either is *None*, it\n",
      "        is autoscaled to the respective min or max\n",
      "        of the color array *C*.  If not *None*, *vmin* or\n",
      "        *vmax* passed in here override any pre-existing values\n",
      "        supplied in the *norm* instance.\n",
      "    \n",
      "      *shading*: [ 'flat' | 'faceted' ]\n",
      "        If 'faceted', a black grid is drawn around each rectangle; if\n",
      "        'flat', edges are not drawn. Default is 'flat', contrary to\n",
      "        MATLAB.\n",
      "    \n",
      "        This kwarg is deprecated; please use 'edgecolors' instead:\n",
      "          * shading='flat' -- edgecolors='none'\n",
      "          * shading='faceted  -- edgecolors='k'\n",
      "    \n",
      "      *edgecolors*: [ *None* | ``'none'`` | color | color sequence]\n",
      "        If *None*, the rc setting is used by default.\n",
      "    \n",
      "        If ``'none'``, edges will not be visible.\n",
      "    \n",
      "        An mpl color or sequence of colors will set the edge color\n",
      "    \n",
      "      *alpha*: ``0 <= scalar <= 1``   or *None*\n",
      "        the alpha blending value\n",
      "    \n",
      "      *snap*: bool\n",
      "        Whether to snap the mesh to pixel boundaries.\n",
      "    \n",
      "    Return value is a :class:`matplotlib.collections.Collection`\n",
      "    instance.\n",
      "    \n",
      "    .. _axes-pcolor-grid-orientation:\n",
      "    \n",
      "    The grid orientation follows the MATLAB convention: an\n",
      "    array *C* with shape (*nrows*, *ncolumns*) is plotted with\n",
      "    the column number as *X* and the row number as *Y*, increasing\n",
      "    up; hence it is plotted the way the array would be printed,\n",
      "    except that the *Y* axis is reversed.  That is, *C* is taken\n",
      "    as *C*(*y*, *x*).\n",
      "    \n",
      "    Similarly for :func:`meshgrid`::\n",
      "    \n",
      "      x = np.arange(5)\n",
      "      y = np.arange(3)\n",
      "      X, Y = np.meshgrid(x, y)\n",
      "    \n",
      "    is equivalent to::\n",
      "    \n",
      "      X = array([[0, 1, 2, 3, 4],\n",
      "                 [0, 1, 2, 3, 4],\n",
      "                 [0, 1, 2, 3, 4]])\n",
      "    \n",
      "      Y = array([[0, 0, 0, 0, 0],\n",
      "                 [1, 1, 1, 1, 1],\n",
      "                 [2, 2, 2, 2, 2]])\n",
      "    \n",
      "    so if you have::\n",
      "    \n",
      "      C = rand(len(x), len(y))\n",
      "    \n",
      "    then you need to transpose C::\n",
      "    \n",
      "      pcolor(X, Y, C.T)\n",
      "    \n",
      "    or::\n",
      "    \n",
      "      pcolor(C.T)\n",
      "    \n",
      "    MATLAB :func:`pcolor` always discards the last row and column\n",
      "    of *C*, but matplotlib displays the last row and column if *X* and\n",
      "    *Y* are not specified, or if *X* and *Y* have one more row and\n",
      "    column than *C*.\n",
      "    \n",
      "    kwargs can be used to control the\n",
      "    :class:`~matplotlib.collections.PolyCollection` properties:\n",
      "    \n",
      "      agg_filter: unknown\n",
      "      alpha: float or None \n",
      "      animated: [True | False] \n",
      "      antialiased or antialiaseds: Boolean or sequence of booleans \n",
      "      array: unknown\n",
      "      axes: an :class:`~matplotlib.axes.Axes` instance \n",
      "      clim: a length 2 sequence of floats \n",
      "      clip_box: a :class:`matplotlib.transforms.Bbox` instance \n",
      "      clip_on: [True | False] \n",
      "      clip_path: [ (:class:`~matplotlib.path.Path`, :class:`~matplotlib.transforms.Transform`) | :class:`~matplotlib.patches.Patch` | None ] \n",
      "      cmap: a colormap or registered colormap name \n",
      "      color: matplotlib color arg or sequence of rgba tuples\n",
      "      contains: a callable function \n",
      "      edgecolor or edgecolors: matplotlib color spec or sequence of specs \n",
      "      facecolor or facecolors: matplotlib color spec or sequence of specs \n",
      "      figure: a :class:`matplotlib.figure.Figure` instance \n",
      "      gid: an id string \n",
      "      hatch: [ '/' | '\\\\' | '|' | '-' | '+' | 'x' | 'o' | 'O' | '.' | '*' ] \n",
      "      label: string or anything printable with '%s' conversion. \n",
      "      linestyle or dashes or linestyles: ['solid' | 'dashed', 'dashdot', 'dotted' | (offset, on-off-dash-seq) | ``'-'`` | ``'--'`` | ``'-.'`` | ``':'`` | ``'None'`` | ``' '`` | ``''``]\n",
      "      linewidth or linewidths or lw: float or sequence of floats \n",
      "      norm: unknown\n",
      "      offset_position: unknown\n",
      "      offsets: float or sequence of floats \n",
      "      path_effects: unknown\n",
      "      picker: [None|float|boolean|callable] \n",
      "      pickradius: unknown\n",
      "      rasterized: [True | False | None] \n",
      "      sketch_params: unknown\n",
      "      snap: unknown\n",
      "      transform: :class:`~matplotlib.transforms.Transform` instance \n",
      "      url: a url string \n",
      "      urls: unknown\n",
      "      visible: [True | False] \n",
      "      zorder: any number \n",
      "    \n",
      "    .. note::\n",
      "    \n",
      "        The default *antialiaseds* is False if the default\n",
      "        *edgecolors*=\"none\" is used.  This eliminates artificial lines\n",
      "        at patch boundaries, and works regardless of the value of\n",
      "        alpha.  If *edgecolors* is not \"none\", then the default\n",
      "        *antialiaseds* is taken from\n",
      "        rcParams['patch.antialiased'], which defaults to *True*.\n",
      "        Stroking the edges may be preferred if *alpha* is 1, but\n",
      "        will cause artifacts otherwise.\n",
      "    \n",
      "    .. seealso::\n",
      "    \n",
      "        :func:`~matplotlib.pyplot.pcolormesh`\n",
      "            For an explanation of the differences between\n",
      "            pcolor and pcolormesh.\n",
      "    \n",
      "    Notes\n",
      "    -----\n",
      "    \n",
      "    In addition to the above described arguments, this function can take a\n",
      "    **data** keyword argument. If such a **data** argument is given, the\n",
      "    following arguments are replaced by **data[<arg>]**:\n",
      "    \n",
      "    * All positional and all keyword arguments.\n",
      "    \n",
      "    \n",
      "    \n",
      "    \n",
      "    Additional kwargs: hold = [True|False] overrides default hold state\n",
      "\n"
     ]
    }
   ],
   "source": [
    "help(plt.pcolor)"
   ]
  },
  {
   "cell_type": "code",
   "execution_count": null,
   "metadata": {
    "collapsed": true
   },
   "outputs": [],
   "source": []
  }
 ],
 "metadata": {
  "kernelspec": {
   "display_name": "Python 3",
   "language": "python",
   "name": "python3"
  },
  "language_info": {
   "codemirror_mode": {
    "name": "ipython",
    "version": 3
   },
   "file_extension": ".py",
   "mimetype": "text/x-python",
   "name": "python",
   "nbconvert_exporter": "python",
   "pygments_lexer": "ipython3",
   "version": "3.5.2"
  }
 },
 "nbformat": 4,
 "nbformat_minor": 1
}
