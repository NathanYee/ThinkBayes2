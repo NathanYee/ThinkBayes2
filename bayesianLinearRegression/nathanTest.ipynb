{
 "cells": [
  {
   "cell_type": "markdown",
   "metadata": {},
   "source": [
    "# Bayesian Linear Regression \n",
    "Computational bayes final project.  \n",
    "Nathan Yee  \n",
    "Uma Desai  "
   ]
  },
  {
   "cell_type": "markdown",
   "metadata": {},
   "source": [
    "First example to gain understanding is taken from Cypress Frankenfeld.\n",
    "http://allendowney.blogspot.com/2015/04/two-hour-marathon-by-2041-probably.html"
   ]
  },
  {
   "cell_type": "code",
   "execution_count": 1,
   "metadata": {
    "collapsed": true
   },
   "outputs": [],
   "source": [
    "from __future__ import print_function, division\n",
    "\n",
    "% matplotlib inline\n",
    "import warnings\n",
    "warnings.filterwarnings('ignore')\n",
    "\n",
    "import math\n",
    "import numpy as np\n",
    "\n",
    "from thinkbayes2 import Pmf, Cdf, Suite, Joint, EvalNormalPdf\n",
    "import thinkplot\n",
    "import pandas as pd\n",
    "import matplotlib.pyplot as plt"
   ]
  },
  {
   "cell_type": "markdown",
   "metadata": {},
   "source": [
    "Load data from csv file"
   ]
  },
  {
   "cell_type": "code",
   "execution_count": 2,
   "metadata": {
    "collapsed": false
   },
   "outputs": [
    {
     "data": {
      "text/html": [
       "<div>\n",
       "<table border=\"1\" class=\"dataframe\">\n",
       "  <thead>\n",
       "    <tr style=\"text-align: right;\">\n",
       "      <th></th>\n",
       "      <th>age</th>\n",
       "      <th>height</th>\n",
       "    </tr>\n",
       "  </thead>\n",
       "  <tbody>\n",
       "    <tr>\n",
       "      <th>0</th>\n",
       "      <td>18</td>\n",
       "      <td>76.1</td>\n",
       "    </tr>\n",
       "    <tr>\n",
       "      <th>1</th>\n",
       "      <td>19</td>\n",
       "      <td>77.0</td>\n",
       "    </tr>\n",
       "    <tr>\n",
       "      <th>2</th>\n",
       "      <td>20</td>\n",
       "      <td>78.1</td>\n",
       "    </tr>\n",
       "    <tr>\n",
       "      <th>3</th>\n",
       "      <td>21</td>\n",
       "      <td>78.2</td>\n",
       "    </tr>\n",
       "    <tr>\n",
       "      <th>4</th>\n",
       "      <td>22</td>\n",
       "      <td>78.8</td>\n",
       "    </tr>\n",
       "    <tr>\n",
       "      <th>5</th>\n",
       "      <td>23</td>\n",
       "      <td>79.7</td>\n",
       "    </tr>\n",
       "    <tr>\n",
       "      <th>6</th>\n",
       "      <td>24</td>\n",
       "      <td>79.9</td>\n",
       "    </tr>\n",
       "    <tr>\n",
       "      <th>7</th>\n",
       "      <td>25</td>\n",
       "      <td>81.1</td>\n",
       "    </tr>\n",
       "    <tr>\n",
       "      <th>8</th>\n",
       "      <td>26</td>\n",
       "      <td>81.2</td>\n",
       "    </tr>\n",
       "    <tr>\n",
       "      <th>9</th>\n",
       "      <td>27</td>\n",
       "      <td>81.8</td>\n",
       "    </tr>\n",
       "    <tr>\n",
       "      <th>10</th>\n",
       "      <td>28</td>\n",
       "      <td>82.8</td>\n",
       "    </tr>\n",
       "    <tr>\n",
       "      <th>11</th>\n",
       "      <td>29</td>\n",
       "      <td>83.5</td>\n",
       "    </tr>\n",
       "  </tbody>\n",
       "</table>\n",
       "</div>"
      ],
      "text/plain": [
       "    age  height\n",
       "0    18    76.1\n",
       "1    19    77.0\n",
       "2    20    78.1\n",
       "3    21    78.2\n",
       "4    22    78.8\n",
       "5    23    79.7\n",
       "6    24    79.9\n",
       "7    25    81.1\n",
       "8    26    81.2\n",
       "9    27    81.8\n",
       "10   28    82.8\n",
       "11   29    83.5"
      ]
     },
     "execution_count": 2,
     "metadata": {},
     "output_type": "execute_result"
    }
   ],
   "source": [
    "df = pd.read_csv('ageVsHeight.csv', skiprows=0, delimiter='\\t')\n",
    "df"
   ]
  },
  {
   "cell_type": "markdown",
   "metadata": {},
   "source": [
    "Create x and y vectors. x is the ages, y is the heights"
   ]
  },
  {
   "cell_type": "code",
   "execution_count": 3,
   "metadata": {
    "collapsed": false
   },
   "outputs": [],
   "source": [
    "ages = np.array(df['age'])\n",
    "heights = np.array(df['height'])"
   ]
  },
  {
   "cell_type": "markdown",
   "metadata": {},
   "source": [
    "Abstract least squares function using a function"
   ]
  },
  {
   "cell_type": "code",
   "execution_count": 4,
   "metadata": {
    "collapsed": true
   },
   "outputs": [],
   "source": [
    "def leastSquares(x, y):\n",
    "    \"\"\"\n",
    "    leastSquares takes in two arrays of values. Then it returns the slope and intercept\n",
    "    of the least squares of the two.\n",
    "    \n",
    "    Args:\n",
    "        x (numpy array): numpy array of values.\n",
    "        y (numpy array): numpy array of values.\n",
    "        \n",
    "    Returns:\n",
    "        slope, intercept (tuple): returns a tuple of floats.\n",
    "    \"\"\"\n",
    "    A = np.vstack([x, np.ones(len(x))]).T\n",
    "    slope, intercept = np.linalg.lstsq(A, y)[0]\n",
    "    return slope, intercept"
   ]
  },
  {
   "cell_type": "markdown",
   "metadata": {},
   "source": [
    "Use the leastSquares function to get a slope and intercept. Then use the slope and intercept to calculate the size of our alpha and beta ranges"
   ]
  },
  {
   "cell_type": "code",
   "execution_count": 5,
   "metadata": {
    "collapsed": false
   },
   "outputs": [
    {
     "name": "stdout",
     "output_type": "stream",
     "text": [
      "0.634965034965 64.9283216783\n"
     ]
    }
   ],
   "source": [
    "slope, intercept = leastSquares(ages, heights)\n",
    "print(slope, intercept)\n",
    "alpha_range = .005 * intercept\n",
    "beta_range = .005 * slope"
   ]
  },
  {
   "cell_type": "markdown",
   "metadata": {},
   "source": [
    "Visualize the slope and intercept on the same plot as the data so make sure it is working correctly"
   ]
  },
  {
   "cell_type": "code",
   "execution_count": 6,
   "metadata": {
    "collapsed": false
   },
   "outputs": [
    {
     "data": {
      "image/png": "[encoded data removed]",
      "text/plain": [
       "<matplotlib.figure.Figure at 0x7f8af9661a90>"
      ]
     },
     "metadata": {},
     "output_type": "display_data"
    }
   ],
   "source": [
    "plt.plot(ages, heights, 'o', label='Original data', markersize=10)\n",
    "plt.plot(ages, slope*ages + intercept, 'r', label='Fitted line')\n",
    "plt.legend()\n",
    "plt.show()"
   ]
  },
  {
   "cell_type": "markdown",
   "metadata": {},
   "source": [
    "Make range of alphas (intercepts), betas (slopes), and sigmas (errors)"
   ]
  },
  {
   "cell_type": "code",
   "execution_count": 7,
   "metadata": {
    "collapsed": false
   },
   "outputs": [],
   "source": [
    "alphas = np.linspace(intercept - alpha_range, intercept + alpha_range, 10)\n",
    "betas = np.linspace(slope - beta_range, slope + beta_range, 10)\n",
    "sigmas = np.linspace(2, 4, 10)\n",
    "\n",
    "# alphas = np.linspace(intercept * (1 - alpha_range),\n",
    "#                      intercept * (1 + alpha_range),\n",
    "#                      5)\n",
    "# betas = np.linspace(slope * (1 - beta_range),\n",
    "#                     slope * (1 + beta_range),\n",
    "#                     5)\n",
    "# sigmas = np.linspace(.1, .2, 5)"
   ]
  },
  {
   "cell_type": "markdown",
   "metadata": {},
   "source": [
    "Turn those alphas, betas, and sigmas into our hypotheses"
   ]
  },
  {
   "cell_type": "code",
   "execution_count": 8,
   "metadata": {
    "collapsed": false
   },
   "outputs": [],
   "source": [
    "hypos = ((alpha, beta, sigma) for alpha in alphas \n",
    "         for beta in betas for sigma in sigmas)"
   ]
  },
  {
   "cell_type": "markdown",
   "metadata": {},
   "source": [
    "Make data"
   ]
  },
  {
   "cell_type": "code",
   "execution_count": 9,
   "metadata": {
    "collapsed": false
   },
   "outputs": [],
   "source": [
    "data = [(age, height) for age in ages for height in heights]"
   ]
  },
  {
   "cell_type": "markdown",
   "metadata": {
    "collapsed": true
   },
   "source": [
    "Next make age class where likelihood is calculated based on error from data"
   ]
  },
  {
   "cell_type": "code",
   "execution_count": 10,
   "metadata": {
    "collapsed": true
   },
   "outputs": [],
   "source": [
    "class leastSquaresHypos(Suite):\n",
    "    def Likelihood(self, data, hypo):\n",
    "        \"\"\"\n",
    "        Likelihood calculates the probability of a particular line (hypo)\n",
    "        based on data (ages Vs height) of our original dataset. This is\n",
    "        done with a normal pmf as each hypo also contains a sigma.\n",
    "        \n",
    "        Args:\n",
    "            data (tuple): tuple that contains ages (float), heights (float)\n",
    "            hypo (tuple): intercept (float), slope (float), sigma (float)\n",
    "            \n",
    "        Returns:\n",
    "            P(data|hypo)\n",
    "        \"\"\"\n",
    "        intercept, slope, sigma = hypo\n",
    "        total_likelihood = 1\n",
    "        for age, measured_height in data:\n",
    "            hypothesized_height = slope * age + intercept\n",
    "            error = measured_height - hypothesized_height\n",
    "            total_likelihood *= EvalNormalPdf(error, mu=0, sigma=sigma)\n",
    "        return total_likelihood\n",
    "        "
   ]
  },
  {
   "cell_type": "code",
   "execution_count": 11,
   "metadata": {
    "collapsed": false
   },
   "outputs": [],
   "source": [
    "LeastSquaresHypos = leastSquaresHypos(hypos)"
   ]
  },
  {
   "cell_type": "code",
   "execution_count": 12,
   "metadata": {
    "collapsed": false
   },
   "outputs": [],
   "source": [
    "for item in data:\n",
    "    LeastSquaresHypos.Update([item])"
   ]
  },
  {
   "cell_type": "code",
   "execution_count": 13,
   "metadata": {
    "collapsed": false
   },
   "outputs": [
    {
     "data": {
      "text/plain": [
       "0.00886058492084809"
      ]
     },
     "execution_count": 13,
     "metadata": {},
     "output_type": "execute_result"
    }
   ],
   "source": [
    "LeastSquaresHypos[LeastSquaresHypos.MaximumLikelihood()]"
   ]
  },
  {
   "cell_type": "code",
   "execution_count": 14,
   "metadata": {
    "collapsed": true
   },
   "outputs": [],
   "source": [
    "def getHeights(hypo_samples, random_months):\n",
    "    random_heights = np.zeros(len(random_months))\n",
    "    for i in range(len(random_heights)):\n",
    "        intercept = hypo_samples[i][0]\n",
    "        slope = hypo_samples[i][1]\n",
    "        sigma = hypo_samples[i][2]\n",
    "        month = random_months[i]\n",
    "        random_heights[i] = np.random.normal((slope * month + intercept), sigma, 1)\n",
    "    return random_heights\n",
    "\n",
    "def getRandomData(start_month, end_month, n, LeastSquaresHypos):\n",
    "    \"\"\"\n",
    "    n - number of samples\n",
    "    \"\"\"\n",
    "    random_hypos = LeastSquaresHypos.Sample(n)\n",
    "    random_months = np.random.uniform(start_month, end_month, n)\n",
    "    random_heights = getHeights(random_hypos, random_months)\n",
    "    return random_months, random_heights"
   ]
  },
  {
   "cell_type": "markdown",
   "metadata": {},
   "source": [
    "Get random samples of pairs of months and heights. Here we want at least 10000 items to get very smooth sampling"
   ]
  },
  {
   "cell_type": "code",
   "execution_count": 15,
   "metadata": {
    "collapsed": true
   },
   "outputs": [],
   "source": [
    "num_samples = 10000\n",
    "random_months, random_heights = getRandomData(18, 40, num_samples, LeastSquaresHypos)"
   ]
  },
  {
   "cell_type": "markdown",
   "metadata": {},
   "source": [
    "Next, we want to get the intensity of the data at locations. We do adding the randomly sampled values to buckets. This gives us intensity values for a grid of pixels in our sample range."
   ]
  },
  {
   "cell_type": "code",
   "execution_count": 16,
   "metadata": {
    "collapsed": false,
    "scrolled": false
   },
   "outputs": [],
   "source": [
    "num_buckets = 70 # num_buckets^2 is actual number\n",
    "\n",
    "# create horizontal and vertical linearly spaced ranges as buckets.\n",
    "hori_range, hori_step = np.linspace(18, 40 , num_buckets, retstep=True)\n",
    "vert_range, vert_step = np.linspace(65, 100, num_buckets, retstep=True)\n",
    "\n",
    "hori_step = hori_step / 2\n",
    "vert_step = vert_step / 2\n",
    "\n",
    "# store each bucket as a tuple in a the buckets dictionary.\n",
    "buckets = dict()\n",
    "keys = [(hori, vert) for hori in hori_range for vert in vert_range]\n",
    "\n",
    "# set each bucket as empty\n",
    "for key in keys:\n",
    "    buckets[key] = 0\n",
    "    \n",
    "# loop through the randomly sampled data\n",
    "for month, height in zip(random_months, random_heights):\n",
    "    # check each bucket and see if randomly sampled data \n",
    "    for key in buckets:\n",
    "        if month > key[0] - hori_step and month < key[0] + hori_step:\n",
    "            if height > key[1] - vert_step and height < key[1] + vert_step:\n",
    "                buckets[key] += 1\n",
    "                break # can only fit in a single bucket"
   ]
  },
  {
   "cell_type": "code",
   "execution_count": 17,
   "metadata": {
    "collapsed": false
   },
   "outputs": [
    {
     "name": "stdout",
     "output_type": "stream",
     "text": [
      "4900 4900 4900\n"
     ]
    }
   ],
   "source": [
    "pcolor_months = []\n",
    "pcolor_heights = []\n",
    "pcolor_intensities = []\n",
    "for key in buckets:\n",
    "    pcolor_months.append(key[0])\n",
    "    pcolor_heights.append(key[1])\n",
    "    pcolor_intensities.append(buckets[key])   \n",
    "    \n",
    "print(len(pcolor_months), len(pcolor_heights), len(pcolor_intensities))"
   ]
  },
  {
   "cell_type": "code",
   "execution_count": 18,
   "metadata": {
    "collapsed": false,
    "scrolled": false
   },
   "outputs": [
    {
     "data": {
      "image/png": "[encoded data removed]",
      "text/plain": [
       "<matplotlib.figure.Figure at 0x7f8af90c05c0>"
      ]
     },
     "metadata": {},
     "output_type": "display_data"
    }
   ],
   "source": [
    "plt.plot(random_months, random_heights, 'o', label='Random Sampling')\n",
    "plt.plot(ages, heights, 'o', label='Original data', markersize=10)\n",
    "plt.plot(ages, slope*ages + intercept, 'r', label='Fitted line')\n",
    "# plt.legend()\n",
    "plt.show()"
   ]
  },
  {
   "cell_type": "markdown",
   "metadata": {},
   "source": [
    "Since density plotting is much easier in Mathematica, we are going to export all our data to csv files and plot them in Mathematica"
   ]
  },
  {
   "cell_type": "code",
   "execution_count": 19,
   "metadata": {
    "collapsed": false
   },
   "outputs": [],
   "source": [
    "def append_to_file(path, data):\n",
    "    \"\"\"\n",
    "    append_to_file appends a line of data to specified file.  Then adds new line\n",
    "    \n",
    "    Args:\n",
    "        path (string): the file path\n",
    "    \n",
    "    Return:\n",
    "        VOID\n",
    "    \"\"\"\n",
    "    with open(path, 'a') as file:\n",
    "        file.write(data + '\\n')\n",
    "        \n",
    "def delete_file_contents(path):\n",
    "    \"\"\"\n",
    "    delete_file_contents deletes the contents of a file\n",
    "    \n",
    "    Args:\n",
    "        path: (string): the file path\n",
    "        \n",
    "    Return:\n",
    "        VOID\n",
    "    \"\"\"\n",
    "    with open(path, 'w'):\n",
    "        pass\n",
    "\n",
    "def intensityCSV(x, y, z):\n",
    "    file_name = 'intensityData.csv'\n",
    "    delete_file_contents(file_name)\n",
    "\n",
    "    for xi, yi, zi in zip(x, y, z):\n",
    "        append_to_file(file_name, \"{}, {}, {}\".format(xi, yi, zi))\n",
    "        \n",
    "def monthHeightCSV(ages, heights):\n",
    "    file_name = 'monthsHeights.csv'\n",
    "    delete_file_contents(file_name)\n",
    "    \n",
    "    for month, height in zip(ages, heights):\n",
    "        append_to_file(file_name, \"{}, {}\".format(month, height))\n",
    "        \n",
    "def fittedLineCSV(ages, slope, intercept):\n",
    "    file_name = 'fittedLineCSV.csv'\n",
    "    delete_file_contents(file_name)\n",
    "    for age in ages:\n",
    "        append_to_file(file_name, \"{}, {}\".format(age, slope*age + intercept))\n",
    "        \n",
    "def makeCSVData(pcolor_months, pcolor_heights, pcolor_intensities, ages, heights, slope, intercept):\n",
    "    intensityCSV(pcolor_months, pcolor_heights, pcolor_intensities)\n",
    "    monthHeightCSV(ages, heights)\n",
    "    fittedLineCSV(ages, slope, intercept)"
   ]
  },
  {
   "cell_type": "code",
   "execution_count": 20,
   "metadata": {
    "collapsed": true
   },
   "outputs": [],
   "source": [
    "makeCSVData(pcolor_months, pcolor_heights, pcolor_intensities, ages, heights, slope, intercept)"
   ]
  },
  {
   "cell_type": "code",
   "execution_count": null,
   "metadata": {
    "collapsed": true
   },
   "outputs": [],
   "source": []
  }
 ],
 "metadata": {
  "kernelspec": {
   "display_name": "Python 3",
   "language": "python",
   "name": "python3"
  },
  "language_info": {
   "codemirror_mode": {
    "name": "ipython",
    "version": 3
   },
   "file_extension": ".py",
   "mimetype": "text/x-python",
   "name": "python",
   "nbconvert_exporter": "python",
   "pygments_lexer": "ipython3",
   "version": "3.5.2"
  }
 },
 "nbformat": 4,
 "nbformat_minor": 1
}
