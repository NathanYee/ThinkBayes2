{
 "cells": [
  {
   "cell_type": "markdown",
   "metadata": {},
   "source": [
    "## Computational Bayes Final Project\n",
    "Nathan Yee  \n",
    "Uma Desai  \n",
    "\n",
    "To understand Bayesian Linear Regression, we read through and used many ideas from Cypress Frankenfeld. http://allendowney.blogspot.com/2015/04/two-hour-marathon-by-2041-probably.html\n",
    "\n",
    "## Height of Children in Kalama, Egypt\n",
    "From: http://lib.stat.cmu.edu/DASL/Datafiles/Ageandheight.html\n",
    "> The height of a child is not stable but increases over time. Since the pattern of growth varies from child to child, one way to understand the general growth pattern is by using the average of several children's heights, as presented in this data set. The scatterplot of height versus age is almost a straight line, showing a linear growth pattern. The straightforward relationship between height and age provides a simple illustration of linear relationships, correlation, and simple regression. \n",
    "\n",
    ">Description: Mean heights of a group of children in Kalama, an Egyptian village that is the site of a study of nutrition in developing countries. The data were obtained by measuring the heights of all 161 children in the village each month over several years. \n",
    "\n",
    ">Age: Age in months\n",
    "\n",
    ">Height: Mean height in centimeters for children at this age \n",
    "\n",
    "#### What is the probability that a child between the ages of 18 - 29 is less than 76.1 cm (the lowest height in our dataset)?"
   ]
  },
  {
   "cell_type": "code",
   "execution_count": 1,
   "metadata": {
    "collapsed": false
   },
   "outputs": [],
   "source": [
    "from __future__ import print_function, division\n",
    "\n",
    "% matplotlib inline\n",
    "import warnings\n",
    "warnings.filterwarnings('ignore')\n",
    "\n",
    "import math\n",
    "import numpy as np\n",
    "\n",
    "from thinkbayes2 import Pmf, Cdf, Suite, Joint, EvalNormalPdf\n",
    "import thinkplot\n",
    "import pandas as pd\n",
    "import matplotlib.pyplot as plt"
   ]
  },
  {
   "cell_type": "markdown",
   "metadata": {},
   "source": [
    "Let's start by loading our data into a Pandas dataframe to see what we're working with."
   ]
  },
  {
   "cell_type": "code",
   "execution_count": 2,
   "metadata": {
    "collapsed": false
   },
   "outputs": [
    {
     "data": {
      "text/html": [
       "<div>\n",
       "<table border=\"1\" class=\"dataframe\">\n",
       "  <thead>\n",
       "    <tr style=\"text-align: right;\">\n",
       "      <th></th>\n",
       "      <th>age</th>\n",
       "      <th>height</th>\n",
       "    </tr>\n",
       "  </thead>\n",
       "  <tbody>\n",
       "    <tr>\n",
       "      <th>0</th>\n",
       "      <td>18</td>\n",
       "      <td>76.1</td>\n",
       "    </tr>\n",
       "    <tr>\n",
       "      <th>1</th>\n",
       "      <td>19</td>\n",
       "      <td>77.0</td>\n",
       "    </tr>\n",
       "    <tr>\n",
       "      <th>2</th>\n",
       "      <td>20</td>\n",
       "      <td>78.1</td>\n",
       "    </tr>\n",
       "    <tr>\n",
       "      <th>3</th>\n",
       "      <td>21</td>\n",
       "      <td>78.2</td>\n",
       "    </tr>\n",
       "    <tr>\n",
       "      <th>4</th>\n",
       "      <td>22</td>\n",
       "      <td>78.8</td>\n",
       "    </tr>\n",
       "    <tr>\n",
       "      <th>5</th>\n",
       "      <td>23</td>\n",
       "      <td>79.7</td>\n",
       "    </tr>\n",
       "    <tr>\n",
       "      <th>6</th>\n",
       "      <td>24</td>\n",
       "      <td>79.9</td>\n",
       "    </tr>\n",
       "    <tr>\n",
       "      <th>7</th>\n",
       "      <td>25</td>\n",
       "      <td>81.1</td>\n",
       "    </tr>\n",
       "    <tr>\n",
       "      <th>8</th>\n",
       "      <td>26</td>\n",
       "      <td>81.2</td>\n",
       "    </tr>\n",
       "    <tr>\n",
       "      <th>9</th>\n",
       "      <td>27</td>\n",
       "      <td>81.8</td>\n",
       "    </tr>\n",
       "    <tr>\n",
       "      <th>10</th>\n",
       "      <td>28</td>\n",
       "      <td>82.8</td>\n",
       "    </tr>\n",
       "    <tr>\n",
       "      <th>11</th>\n",
       "      <td>29</td>\n",
       "      <td>83.5</td>\n",
       "    </tr>\n",
       "  </tbody>\n",
       "</table>\n",
       "</div>"
      ],
      "text/plain": [
       "    age  height\n",
       "0    18    76.1\n",
       "1    19    77.0\n",
       "2    20    78.1\n",
       "3    21    78.2\n",
       "4    22    78.8\n",
       "5    23    79.7\n",
       "6    24    79.9\n",
       "7    25    81.1\n",
       "8    26    81.2\n",
       "9    27    81.8\n",
       "10   28    82.8\n",
       "11   29    83.5"
      ]
     },
     "execution_count": 2,
     "metadata": {},
     "output_type": "execute_result"
    }
   ],
   "source": [
    "df = pd.read_csv('ageVsHeight.csv', skiprows=0, delimiter='\\t')\n",
    "df"
   ]
  },
  {
   "cell_type": "markdown",
   "metadata": {},
   "source": [
    "Next, let's create vectors of our ages and heights."
   ]
  },
  {
   "cell_type": "code",
   "execution_count": 3,
   "metadata": {
    "collapsed": false
   },
   "outputs": [],
   "source": [
    "ages = np.array(df['age'])\n",
    "heights = np.array(df['height'])"
   ]
  },
  {
   "cell_type": "markdown",
   "metadata": {},
   "source": [
    "Now let's visualize our data to make sure that linear regression is appropriate for predicting its distributions."
   ]
  },
  {
   "cell_type": "code",
   "execution_count": 4,
   "metadata": {
    "collapsed": false
   },
   "outputs": [
    {
     "data": {
      "text/plain": [
       "<matplotlib.text.Text at 0x7f4b0e075438>"
      ]
     },
     "execution_count": 4,
     "metadata": {},
     "output_type": "execute_result"
    },
    {
     "data": {
      "image/png": "[encoded data removed]",
      "text/plain": [
       "<matplotlib.figure.Figure at 0x7f4b0e587710>"
      ]
     },
     "metadata": {},
     "output_type": "display_data"
    }
   ],
   "source": [
    "plt.plot(ages, heights, 'o', label='Original data', markersize=10)\n",
    "plt.xlabel('Age (months)')\n",
    "plt.ylabel('Height (cm)')"
   ]
  },
  {
   "cell_type": "markdown",
   "metadata": {},
   "source": [
    "Our data looks pretty linear. We can now calculate the slope and intercept of the line of least squares. We abstract numpy's least squares function using a function of our own."
   ]
  },
  {
   "cell_type": "code",
   "execution_count": 5,
   "metadata": {
    "collapsed": true
   },
   "outputs": [],
   "source": [
    "def leastSquares(x, y):\n",
    "    \"\"\"\n",
    "    leastSquares takes in two arrays of values. Then it returns the slope and intercept\n",
    "    of the least squares of the two.\n",
    "    \n",
    "    Args:\n",
    "        x (numpy array): numpy array of values.\n",
    "        y (numpy array): numpy array of values.\n",
    "        \n",
    "    Returns:\n",
    "        slope, intercept (tuple): returns a tuple of floats.\n",
    "    \"\"\"\n",
    "    A = np.vstack([x, np.ones(len(x))]).T\n",
    "    slope, intercept = np.linalg.lstsq(A, y)[0]\n",
    "    return slope, intercept"
   ]
  },
  {
   "cell_type": "markdown",
   "metadata": {},
   "source": [
    "To use our leastSquares function, we input our age and height vectors as our x and y arguments. Next, let's call leastSquares to get the slope and intercept, and use the slope and intercept to calculate the size of our intercept and slope ranges."
   ]
  },
  {
   "cell_type": "code",
   "execution_count": 6,
   "metadata": {
    "collapsed": false
   },
   "outputs": [
    {
     "name": "stdout",
     "output_type": "stream",
     "text": [
      "0.634965034965 64.9283216783\n"
     ]
    }
   ],
   "source": [
    "slope, intercept = leastSquares(ages, heights)\n",
    "print(slope, intercept)\n",
    "intercept_range = .03 * intercept\n",
    "slope_range = .05 * slope"
   ]
  },
  {
   "cell_type": "markdown",
   "metadata": {},
   "source": [
    "Now, we can visualize the slope and intercept on the same plot as the data to make sure it is working correctly."
   ]
  },
  {
   "cell_type": "code",
   "execution_count": 7,
   "metadata": {
    "collapsed": false,
    "scrolled": true
   },
   "outputs": [
    {
     "data": {
      "image/png": "[encoded data removed]",
      "text/plain": [
       "<matplotlib.figure.Figure at 0x7f4b0e08c320>"
      ]
     },
     "metadata": {},
     "output_type": "display_data"
    }
   ],
   "source": [
    "plt.plot(ages, heights, 'o', label='Original data', markersize=10)\n",
    "plt.plot(ages, slope*ages + intercept, 'r', label='Fitted line')\n",
    "plt.legend()\n",
    "plt.xlabel('Age (months)')\n",
    "plt.ylabel('Height (cm)')\n",
    "plt.show()"
   ]
  },
  {
   "cell_type": "markdown",
   "metadata": {},
   "source": [
    "Looks great! Based on the plot above, we are confident that Bayesian linear regression will give us reasonable distributions for predicting future values. Now we need to create our hypotheses. Each hypothesis will consist of a range of intercepts, slopes and sigmas."
   ]
  },
  {
   "cell_type": "code",
   "execution_count": 8,
   "metadata": {
    "collapsed": false
   },
   "outputs": [],
   "source": [
    "intercepts = np.linspace(intercept - intercept_range, intercept + intercept_range, 20)\n",
    "slopes = np.linspace(slope - slope_range, slope + slope_range, 20)\n",
    "sigmas = np.linspace(2, 4, 15)\n",
    "\n",
    "hypos = ((intercept, slope, sigma) for intercept in intercepts \n",
    "         for slope in slopes for sigma in sigmas)"
   ]
  },
  {
   "cell_type": "markdown",
   "metadata": {},
   "source": [
    "Loop through ages and heights to create tuples as data for our hypotheses."
   ]
  },
  {
   "cell_type": "code",
   "execution_count": 9,
   "metadata": {
    "collapsed": false
   },
   "outputs": [],
   "source": [
    "data = [(age, height) for age in ages for height in heights]"
   ]
  },
  {
   "cell_type": "markdown",
   "metadata": {
    "collapsed": true
   },
   "source": [
    "Next make a least squares class that inherits from Suite and Joint where likelihood is calculated based on error from data. The likelihood function will depend on the data and normal distributions for each hypothesis."
   ]
  },
  {
   "cell_type": "code",
   "execution_count": 10,
   "metadata": {
    "collapsed": true
   },
   "outputs": [],
   "source": [
    "class leastSquaresHypos(Suite, Joint):\n",
    "    def Likelihood(self, data, hypo):\n",
    "        \"\"\"\n",
    "        Likelihood calculates the probability of a particular line (hypo)\n",
    "        based on data (ages Vs height) of our original dataset. This is\n",
    "        done with a normal pmf as each hypo also contains a sigma.\n",
    "        \n",
    "        Args:\n",
    "            data (tuple): tuple that contains ages (float), heights (float)\n",
    "            hypo (tuple): intercept (float), slope (float), sigma (float)\n",
    "            \n",
    "        Returns:\n",
    "            P(data|hypo)\n",
    "        \"\"\"\n",
    "        intercept, slope, sigma = hypo\n",
    "        total_likelihood = 1\n",
    "        for age, measured_height in data:\n",
    "            hypothesized_height = slope * age + intercept\n",
    "            error = measured_height - hypothesized_height\n",
    "            total_likelihood *= EvalNormalPdf(error, mu=0, sigma=sigma)\n",
    "        return total_likelihood\n",
    "        "
   ]
  },
  {
   "cell_type": "markdown",
   "metadata": {},
   "source": [
    "Now instantiate a LeastSquaresHypos suite with our hypos."
   ]
  },
  {
   "cell_type": "code",
   "execution_count": 11,
   "metadata": {
    "collapsed": false
   },
   "outputs": [],
   "source": [
    "LeastSquaresHypos = leastSquaresHypos(hypos)"
   ]
  },
  {
   "cell_type": "markdown",
   "metadata": {},
   "source": [
    "And update the suite with our data. We choose to update a single item at a time to normalize after every item in data."
   ]
  },
  {
   "cell_type": "code",
   "execution_count": 12,
   "metadata": {
    "collapsed": false
   },
   "outputs": [],
   "source": [
    "for item in data:\n",
    "    LeastSquaresHypos.Update([item])"
   ]
  },
  {
   "cell_type": "markdown",
   "metadata": {},
   "source": [
    "We can now plot marginal distributions to visualize the probability distribution for each of our hypotheses for intercept, slope, and sigma values. Our hypotheses were carefully picked based on ranges that we found worked well, which is why all the intercepts, slopes, and sigmas that are important to this dataset are included in our hypotheses."
   ]
  },
  {
   "cell_type": "code",
   "execution_count": 13,
   "metadata": {
    "collapsed": false
   },
   "outputs": [
    {
     "data": {
      "image/png": "[encoded data removed]",
      "text/plain": [
       "<matplotlib.figure.Figure at 0x7f4b0dfafe48>"
      ]
     },
     "metadata": {},
     "output_type": "display_data"
    }
   ],
   "source": [
    "marginal_intercepts = LeastSquaresHypos.Marginal(0)\n",
    "thinkplot.hist(marginal_intercepts)\n",
    "thinkplot.Config(xlabel='intercept (cm)', ylabel='prob')"
   ]
  },
  {
   "cell_type": "markdown",
   "metadata": {},
   "source": [
    "Since our slopes are relatively close to our original slope, we are relatively confdient that these produce reasonable distributions even though it does get cut off."
   ]
  },
  {
   "cell_type": "code",
   "execution_count": 14,
   "metadata": {
    "collapsed": false
   },
   "outputs": [
    {
     "data": {
      "image/png": "[encoded data removed]",
      "text/plain": [
       "<matplotlib.figure.Figure at 0x7f4b0de6a860>"
      ]
     },
     "metadata": {},
     "output_type": "display_data"
    }
   ],
   "source": [
    "marginal_slopes = LeastSquaresHypos.Marginal(1)\n",
    "thinkplot.hist(marginal_slopes)\n",
    "thinkplot.Config(xlabel='slope (cm / month)', ylabel='prob')"
   ]
  },
  {
   "cell_type": "code",
   "execution_count": 15,
   "metadata": {
    "collapsed": false
   },
   "outputs": [
    {
     "data": {
      "image/png": "[encoded data removed]",
      "text/plain": [
       "<matplotlib.figure.Figure at 0x7f4b0e040668>"
      ]
     },
     "metadata": {},
     "output_type": "display_data"
    }
   ],
   "source": [
    "marginal_sigmas = LeastSquaresHypos.Marginal(2)\n",
    "thinkplot.hist(marginal_sigmas)\n",
    "thinkplot.Config(xlabel='sigma', ylabel='prob')"
   ]
  },
  {
   "cell_type": "markdown",
   "metadata": {},
   "source": [
    "Next, we want to sample random data from our hypotheses. To do this, we will make two functions, getHeights and getRandomData. getRandomData calls getHeights to obtain random height values."
   ]
  },
  {
   "cell_type": "code",
   "execution_count": 16,
   "metadata": {
    "collapsed": true
   },
   "outputs": [],
   "source": [
    "def getHeights(hypo_samples, random_months):\n",
    "    \"\"\"\n",
    "    getHeights takes in random hypos and random months and returns the coorisponding\n",
    "    random height\n",
    "    \n",
    "    Args:\n",
    "        hypo_samples (sequence): Sampled hypotheses from the LeastSquaredHypos suite\n",
    "        random_months (sequence): Randomly sampled months\n",
    "    \"\"\"\n",
    "    random_heights = np.zeros(len(random_months))\n",
    "    for i in range(len(random_heights)):\n",
    "        intercept = hypo_samples[i][0]\n",
    "        slope = hypo_samples[i][1]\n",
    "        sigma = hypo_samples[i][2]\n",
    "        month = random_months[i]\n",
    "        random_heights[i] = np.random.normal((slope * month + intercept), sigma, 1)\n",
    "    return random_heights\n",
    "\n",
    "def getRandomData(start_month, end_month, n, LeastSquaresHypos):\n",
    "    \"\"\"\n",
    "    getRadomData computes and returns two sequences\n",
    "    \n",
    "    Args:\n",
    "        start_month: (number): Starting month\n",
    "        end_month: (number): Ending month\n",
    "        n (int): Number of samples\n",
    "        LeastSquaresHypos (Suite): Contains the hypos we want to sample\n",
    "    \n",
    "    Returns:\n",
    "        Sequence of random_months and random_heights\n",
    "    \n",
    "    \"\"\"\n",
    "    random_hypos = LeastSquaresHypos.Sample(n)\n",
    "    random_months = np.random.uniform(start_month, end_month, n)\n",
    "    random_heights = getHeights(random_hypos, random_months)\n",
    "    return random_months, random_heights"
   ]
  },
  {
   "cell_type": "markdown",
   "metadata": {},
   "source": [
    "Now we take 10000 random samples of pairs of months and heights. Here we want at least 10000 items so that we can get very smooth sampling."
   ]
  },
  {
   "cell_type": "code",
   "execution_count": 17,
   "metadata": {
    "collapsed": false
   },
   "outputs": [],
   "source": [
    "num_samples = 100000\n",
    "random_months, random_heights = getRandomData(18, 29, num_samples, LeastSquaresHypos)"
   ]
  },
  {
   "cell_type": "markdown",
   "metadata": {},
   "source": [
    "Now plot the data to see what the randomly sampled data looks like beneath the original data and line of least squares. We notice that we have trouble seeing the exact size of our distribution as points overlap each other. To see what the distribution actually looks like, we must make a density plot."
   ]
  },
  {
   "cell_type": "code",
   "execution_count": 18,
   "metadata": {
    "collapsed": false
   },
   "outputs": [
    {
     "data": {
      "image/png": "[encoded data removed]",
      "text/plain": [
       "<matplotlib.figure.Figure at 0x7f4b0e07ccf8>"
      ]
     },
     "metadata": {},
     "output_type": "display_data"
    }
   ],
   "source": [
    "plt.plot(random_months, random_heights, 'o', label='Random Sampling')\n",
    "plt.plot(ages, heights, 'o', label='Original data', markersize=10)\n",
    "plt.plot(ages, slope*ages + intercept, 'r', label='Fitted line')\n",
    "plt.xlabel('Age (months)')\n",
    "plt.ylabel('Height (cm)')\n",
    "plt.legend()\n",
    "plt.show()"
   ]
  },
  {
   "cell_type": "markdown",
   "metadata": {},
   "source": [
    "Next, we want to get the intensity of the data at locations. We do that by adding the randomly sampled values to buckets. This gives us intensity values for a grid of pixels in our sample range."
   ]
  },
  {
   "cell_type": "code",
   "execution_count": 19,
   "metadata": {
    "collapsed": false
   },
   "outputs": [],
   "source": [
    "num_buckets = 70 # num_buckets^2 is actual number\n",
    "\n",
    "# create horizontal and vertical linearly spaced ranges as buckets.\n",
    "hori_range, hori_step = np.linspace(18, 29 , num_buckets, retstep=True)\n",
    "vert_range, vert_step = np.linspace(65, 100, num_buckets, retstep=True)\n",
    "\n",
    "hori_step = hori_step / 2\n",
    "vert_step = vert_step / 2\n",
    "\n",
    "# store each bucket as a tuple in a the buckets dictionary.\n",
    "buckets = dict()\n",
    "keys = [(hori, vert) for hori in hori_range for vert in vert_range]\n",
    "\n",
    "# set each bucket as empty\n",
    "for key in keys:\n",
    "    buckets[key] = 0\n",
    "    \n",
    "# loop through the randomly sampled data\n",
    "for month, height in zip(random_months, random_heights):\n",
    "    # check each bucket and see if randomly sampled data \n",
    "    for key in buckets:\n",
    "        if month > key[0] - hori_step and month < key[0] + hori_step:\n",
    "            if height > key[1] - vert_step and height < key[1] + vert_step:\n",
    "                buckets[key] += 1\n",
    "                break # can only fit in a single bucket"
   ]
  },
  {
   "cell_type": "markdown",
   "metadata": {},
   "source": [
    "Next, we unpack the buckets into three vectors, pcolor_months, pcolor_heights, and pcolor_densities"
   ]
  },
  {
   "cell_type": "code",
   "execution_count": 20,
   "metadata": {
    "collapsed": false
   },
   "outputs": [],
   "source": [
    "pcolor_months = []\n",
    "pcolor_heights = []\n",
    "pcolor_densities = []\n",
    "for key in buckets:\n",
    "    pcolor_months.append(key[0])\n",
    "    pcolor_heights.append(key[1])\n",
    "    pcolor_densities.append(buckets[key])"
   ]
  },
  {
   "cell_type": "markdown",
   "metadata": {},
   "source": [
    "Since density plotting is much simpler in Mathematica, we are going to export all our data to csv files and plot them in Mathematica"
   ]
  },
  {
   "cell_type": "code",
   "execution_count": 21,
   "metadata": {
    "collapsed": true
   },
   "outputs": [],
   "source": [
    "def append_to_file(path, data):\n",
    "    \"\"\"\n",
    "    append_to_file appends a line of data to specified file.  Then adds new line\n",
    "    \n",
    "    Args:\n",
    "        path (string): the file path\n",
    "    \n",
    "    Return:\n",
    "        VOID\n",
    "    \"\"\"\n",
    "    with open(path, 'a') as file:\n",
    "        file.write(data + '\\n')\n",
    "        \n",
    "def delete_file_contents(path):\n",
    "    \"\"\"\n",
    "    delete_file_contents deletes the contents of a file\n",
    "    \n",
    "    Args:\n",
    "        path: (string): the file path\n",
    "        \n",
    "    Return:\n",
    "        VOID\n",
    "    \"\"\"\n",
    "    with open(path, 'w'):\n",
    "        pass\n",
    "\n",
    "def threeSequenceCSV(x, y, z):\n",
    "    \"\"\"\n",
    "    Writes the x, y, z arrays to a CSV\n",
    "    \n",
    "    Args:\n",
    "        x (sequence): x data\n",
    "        y (sequence): y data\n",
    "        z (sequence): z data    \n",
    "    \"\"\"\n",
    "    file_name = 'intensityData.csv'\n",
    "    delete_file_contents(file_name)\n",
    "\n",
    "    for xi, yi, zi in zip(x, y, z):\n",
    "        append_to_file(file_name, \"{}, {}, {}\".format(xi, yi, zi))\n",
    "        \n",
    "def twoSequenceCSV(x, y):\n",
    "    \"\"\"\n",
    "    Writes the x, y arrays to a CSV\n",
    "    \n",
    "    Args:\n",
    "        x (sequence): x data\n",
    "        y (sequence): y data\n",
    "    \"\"\"\n",
    "    file_name = 'monthsHeights.csv'\n",
    "    delete_file_contents(file_name)\n",
    "    \n",
    "    for xi, yi in zip(x, y):\n",
    "        append_to_file(file_name, \"{}, {}\".format(xi, yi))\n",
    "        \n",
    "def fittedLineCSV(x, slope, intercept):\n",
    "    \"\"\"\n",
    "    Writes line data to a CSV\n",
    "    \n",
    "    Args:\n",
    "        x (sequence): x data\n",
    "        slope (float): slope of line\n",
    "        intercept (float): intercept of line\n",
    "    \"\"\"\n",
    "    file_name = 'fittedLineCSV.csv'\n",
    "    delete_file_contents(file_name)\n",
    "    for xi in x:\n",
    "        append_to_file(file_name, \"{}, {}\".format(xi, slope*xi + intercept))\n",
    "        \n",
    "def makeCSVData(random_x, random_y, intensities, original_x, original_y, slope, intercept):\n",
    "    \"\"\"\n",
    "    Calls the 3 csv making functions with appropriate parameters.\n",
    "    \"\"\"\n",
    "    threeSequenceCSV(random_x, random_y, intensities)\n",
    "    twoSequenceCSV(original_x, original_y)\n",
    "    fittedLineCSV(original_x, slope, intercept)"
   ]
  },
  {
   "cell_type": "code",
   "execution_count": 22,
   "metadata": {
    "collapsed": true
   },
   "outputs": [],
   "source": [
    "makeCSVData(pcolor_months, pcolor_heights, pcolor_densities, ages, heights, slope, intercept)"
   ]
  },
  {
   "cell_type": "markdown",
   "metadata": {},
   "source": [
    "Now, we have a figure that contains superimposed density plot, original data scatter plot, and least squares line plot. While the density plot is not strictly necessary, it gives us a much better idea as to how large of a distribution we have. Note that the x axis is ages (months) and the y axis is height (cm)."
   ]
  },
  {
   "cell_type": "markdown",
   "metadata": {},
   "source": [
    "<img src=\"ageHeightAllPlots5.png\" alt=\"Density Plot with orignal data/fit\" height=\"400\" width=\"400\">"
   ]
  },
  {
   "cell_type": "markdown",
   "metadata": {},
   "source": [
    "So, now we can go back to our original question. What is the probability that a child between the ages of 18 - 29 is less than 76.1 cm (the lowest height in our dataset)? To answer this question, we sample our random data and see whether or not it is less than 76.1 cm. We will do this using a function."
   ]
  },
  {
   "cell_type": "code",
   "execution_count": 23,
   "metadata": {
    "collapsed": true
   },
   "outputs": [],
   "source": [
    "def probHeightRange(heights, low, high):\n",
    "    \"\"\"\n",
    "    probHeightRange returns the probability that height is within a particular range\n",
    "    \n",
    "    Args:\n",
    "        height (sequence): sequence of heights\n",
    "        low (number): the bottom of the range\n",
    "        high (number): the top of the range\n",
    "        \n",
    "    Returns:\n",
    "        prob (float): the probability of being in the height range\n",
    "    \"\"\"\n",
    "    successes = 0\n",
    "    total = len(heights)\n",
    "    for height in heights:\n",
    "        if low < height and height < high:\n",
    "            successes += 1\n",
    "    \n",
    "    return successes / total\n",
    "    "
   ]
  },
  {
   "cell_type": "code",
   "execution_count": 24,
   "metadata": {
    "collapsed": false
   },
   "outputs": [
    {
     "data": {
      "text/plain": [
       "0.15385"
      ]
     },
     "execution_count": 24,
     "metadata": {},
     "output_type": "execute_result"
    }
   ],
   "source": [
    "probHeightRange(random_heights, 0, 76.1)"
   ]
  },
  {
   "cell_type": "markdown",
   "metadata": {},
   "source": [
    "We find that 15.55 % of children in Kalama, Egypt between the ages of 18 - 29 months are less than 76.1 cm (the lowest height in our dataset)"
   ]
  },
  {
   "cell_type": "code",
   "execution_count": null,
   "metadata": {
    "collapsed": true
   },
   "outputs": [],
   "source": []
  }
 ],
 "metadata": {
  "kernelspec": {
   "display_name": "Python 3",
   "language": "python",
   "name": "python3"
  },
  "language_info": {
   "codemirror_mode": {
    "name": "ipython",
    "version": 3
   },
   "file_extension": ".py",
   "mimetype": "text/x-python",
   "name": "python",
   "nbconvert_exporter": "python",
   "pygments_lexer": "ipython3",
   "version": "3.5.2"
  }
 },
 "nbformat": 4,
 "nbformat_minor": 1
}
