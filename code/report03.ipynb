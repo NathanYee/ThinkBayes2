{
 "cells": [
  {
   "cell_type": "markdown",
   "metadata": {},
   "source": [
    "# Report02 - Nathan Yee\n",
    "\n",
    "This notebook contains report03 for computational baysian statistics fall 2016\n",
    "\n",
    "MIT License: https://opensource.org/licenses/MIT"
   ]
  },
  {
   "cell_type": "code",
   "execution_count": 1,
   "metadata": {
    "collapsed": true
   },
   "outputs": [],
   "source": [
    "from __future__ import print_function, division\n",
    "\n",
    "% matplotlib inline\n",
    "import warnings\n",
    "warnings.filterwarnings('ignore')\n",
    "\n",
    "import math\n",
    "import numpy as np\n",
    "\n",
    "from thinkbayes2 import Pmf, Cdf, Suite, Joint\n",
    "import thinkplot"
   ]
  },
  {
   "cell_type": "markdown",
   "metadata": {},
   "source": [
    "## The sock problem\n",
    "\n",
    "Created by Yuzhong Huang\n",
    "\n",
    "There are two drawers of socks. The first drawer has 40 white socks and 10 black socks; the second drawer has 20 white socks and 30 black socks. We randomly get 2 socks from a drawer, and it turns out to be a pair(same color) but we don't know the color of these socks. What is the chance that we picked the first drawer."
   ]
  },
  {
   "cell_type": "markdown",
   "metadata": {},
   "source": [
    "To make calculating our likelihood easier, we start by defining a multiply function. The function is written in a functional way primarily for fun."
   ]
  },
  {
   "cell_type": "code",
   "execution_count": 2,
   "metadata": {
    "collapsed": true
   },
   "outputs": [],
   "source": [
    "from functools import reduce\n",
    "import operator\n",
    "\n",
    "def multiply(items):\n",
    "    \"\"\"\n",
    "    multiply takes a list of numbers, multiplies all of them, and returns the result\n",
    "    \n",
    "    Args:\n",
    "        items (list): The list of numbers\n",
    "        \n",
    "    Return:\n",
    "        the items multiplied together\n",
    "    \"\"\"\n",
    "    return reduce(operator.mul, items, 1)"
   ]
  },
  {
   "cell_type": "markdown",
   "metadata": {},
   "source": [
    "Next we define a drawer suite. This suite will allow us to take n socks up to the least number of socks in a drawer. To make our likelihood function simpler, we ignore the case where we take 11 black socks and that only drawer 2 is possible."
   ]
  },
  {
   "cell_type": "code",
   "execution_count": 5,
   "metadata": {
    "collapsed": false
   },
   "outputs": [],
   "source": [
    "class Drawers(Suite):\n",
    "    def Likelihood(self, data, hypo):\n",
    "        \"\"\"\n",
    "        Likelihood returns the likelihood given a bayesian update \n",
    "        consisting of a particular hypothesis and new data. In the\n",
    "        case of our drawer problem, the probabilities change with the\n",
    "        number of pairs we take (without replacement) so we we start\n",
    "        by defining lists for each color sock in each drawer.\n",
    "        \n",
    "        Args:\n",
    "            data (int): The number of socks we take\n",
    "            hypo (str): The hypothesis we are updating\n",
    "            \n",
    "        Return:\n",
    "            the likelihood for a hypothesis\n",
    "        \"\"\"\n",
    "        \n",
    "        drawer1W = []\n",
    "        drawer1B = []\n",
    "        drawer2W = []\n",
    "        drawer2B = []\n",
    "        for i in range(data):\n",
    "            drawer1W.append(40-i)\n",
    "            drawer1B.append(10-i)\n",
    "            drawer2W.append(20-i)\n",
    "            drawer2B.append(30-i)\n",
    "        \n",
    "        if hypo == 'drawer1':\n",
    "            return multiply(drawer1W)+multiply(drawer1B)\n",
    "        if hypo == 'drawer2':\n",
    "            return multiply(drawer2W)+multiply(drawer2B)\n"
   ]
  },
  {
   "cell_type": "markdown",
   "metadata": {},
   "source": [
    "Next, define our hypotheses and create the drawer Suite."
   ]
  },
  {
   "cell_type": "code",
   "execution_count": 6,
   "metadata": {
    "collapsed": false
   },
   "outputs": [
    {
     "name": "stdout",
     "output_type": "stream",
     "text": [
      "drawer1 0.5\n",
      "drawer2 0.5\n"
     ]
    }
   ],
   "source": [
    "hypos = ['drawer1','drawer2']\n",
    "drawers = Drawers(hypos)\n",
    "drawers.Print()"
   ]
  },
  {
   "cell_type": "markdown",
   "metadata": {},
   "source": [
    "Next, update the drawers by taking two matching socks."
   ]
  },
  {
   "cell_type": "code",
   "execution_count": 7,
   "metadata": {
    "collapsed": false
   },
   "outputs": [
    {
     "name": "stdout",
     "output_type": "stream",
     "text": [
      "drawer1 0.5689655172413792\n",
      "drawer2 0.43103448275862066\n"
     ]
    }
   ],
   "source": [
    "drawers.Update(2)\n",
    "drawers.Print()"
   ]
  },
  {
   "cell_type": "markdown",
   "metadata": {},
   "source": [
    "It seems that the drawer with many of a single sock (40 white 10 black) is more likely after the update. To confirm this suspicion, let's update with 3 more socks."
   ]
  },
  {
   "cell_type": "code",
   "execution_count": 9,
   "metadata": {
    "collapsed": false
   },
   "outputs": [
    {
     "name": "stdout",
     "output_type": "stream",
     "text": [
      "drawer1 0.7173913043478262\n",
      "drawer2 0.28260869565217395\n"
     ]
    }
   ],
   "source": [
    "drawers.Update(3)\n",
    "drawers.Print()"
   ]
  },
  {
   "cell_type": "markdown",
   "metadata": {},
   "source": [
    "Now we can conclude that bayesian updates make the drawer with extreme amounts of one sock more likely when our information is just matching socks."
   ]
  },
  {
   "cell_type": "markdown",
   "metadata": {},
   "source": [
    "## Chess-playing twins\n",
    "\n",
    "Allen Downey\n",
    "\n",
    "Two identical twins are members of my chess club, but they never show up on the same day; in fact, they strictly alternate the days they show up.  I can't tell them apart except that one is a better player than the other:  Avery beats me 60% of the time and I beat Blake 70% of the time.  If I play one twin on Monday and win, and the other twin on Tuesday and lose, which twin did I play on which day?"
   ]
  },
  {
   "cell_type": "markdown",
   "metadata": {},
   "source": [
    "To solve this problem, we first need to create our hypothesis. In this case, we have:  \n",
    "\n",
    "hypo1: Avery Monday, Blake Tuesday  \n",
    "hypo2: Blake Monday, Avery Tuesday  \n",
    "\n",
    "We will abreviate Avery to A and Blake to B."
   ]
  },
  {
   "cell_type": "code",
   "execution_count": 13,
   "metadata": {
    "collapsed": false
   },
   "outputs": [
    {
     "name": "stdout",
     "output_type": "stream",
     "text": [
      "AB 0.5\n",
      "BA 0.5\n"
     ]
    }
   ],
   "source": [
    "twins = Pmf()\n",
    "twins['AB'] = 1\n",
    "twins['BA'] = 1\n",
    "twins.Normalize()\n",
    "twins.Print()"
   ]
  },
  {
   "cell_type": "markdown",
   "metadata": {},
   "source": [
    "Now we update our hypotheses with us winning the first day. We have a 40% chance of winning against Avery and a 70% chance of winning against Blake."
   ]
  },
  {
   "cell_type": "code",
   "execution_count": 16,
   "metadata": {
    "collapsed": false
   },
   "outputs": [
    {
     "name": "stdout",
     "output_type": "stream",
     "text": [
      "AB 0.3950617283950617\n",
      "BA 0.6049382716049382\n"
     ]
    }
   ],
   "source": [
    "#win day 1\n",
    "twins['AB'] *= .4\n",
    "twins['BA'] *= .7\n",
    "twins.Normalize()\n",
    "twins.Print()"
   ]
  },
  {
   "cell_type": "markdown",
   "metadata": {},
   "source": [
    "At this point in time, there is only a 36% chance that we play Avery the first day while a 64% chance that we played Blake the first day.\n",
    "\n",
    "However, let's see what happens when we update with a loss."
   ]
  },
  {
   "cell_type": "code",
   "execution_count": 15,
   "metadata": {
    "collapsed": false
   },
   "outputs": [
    {
     "name": "stdout",
     "output_type": "stream",
     "text": [
      "AB 0.5333333333333333\n",
      "BA 0.4666666666666667\n"
     ]
    }
   ],
   "source": [
    "#lose day 2\n",
    "twins['AB'] *= .6\n",
    "twins['BA'] *= .3\n",
    "twins.Normalize()\n",
    "twins.Print()"
   ]
  },
  {
   "cell_type": "markdown",
   "metadata": {},
   "source": [
    "Interesting. Now there is a 53% chance that we played Avery then Blake and a 47% chance that we played Blake then Avery."
   ]
  },
  {
   "cell_type": "markdown",
   "metadata": {},
   "source": [
    "## Who was that person who saw a movie?\n",
    "\n",
    "Nathan Yee\n",
    "\n",
    "Every year the MPAA (Motion Picture Association of America) publishes a report about theatrical market statistics. Included in the report, both the gender and the ethnicity share of the top 5 most grossing films. If a randomly selected person went to Inside Out, what is the probability that they are both female and Asian?\n",
    "\n",
    "Data:\n",
    "\n",
    "| Gender                      | Male (%) | Female (%)  |\n",
    "| :-------------------------- | :------- | :---------- |\n",
    "| Furious 7                   | 56       | 44          |\n",
    "| Inside Out                  | 46       | 54          |\n",
    "| Avengers: Age of Ultron     | 58       | 42          |\n",
    "| Star Wars: The Force Awakens| 58       | 42          |\n",
    "| Jurassic World              | 55       | 45          |\n",
    "\n",
    "\n",
    "| Ethnicity                   | Caucasian (%) | African-American (%) | Hispanic (%) | Asian (%) | Other (%) |\n",
    "| :-------------------------- | :------------ | :------------------- | :----------- | :-------- | :-------- |\n",
    "| Furious 7                   | 40            | 22                   | 25           | 8         | 5         |\n",
    "| Inside Out                  | 54            | 15                   | 16           | 9         | 5         |\n",
    "| Avengers: Age of Ultron     | 50            | 16                   | 20           | 10        | 5         |\n",
    "| Star Wars: The Force Awakens| 61            | 12                   | 15           | 7         | 5         |\n",
    "| Jurassic World              | 39            | 16                   | 19           | 11        | 6         |\n",
    "\n",
    "\n",
    "| Demographic                 | Caucasian (%) | African-American (%) | Hispanic (%) | Asian (%) | Other (%) |\n",
    "| :-------------------------- | :------------ | :------------------- | :----------- | :-------- | :-------- |\n",
    "| Population United States    | 63.7          | 12.2                 | 16.3         | 4.7       | 3.1       |\n",
    "\n",
    "Note:\n",
    "Demographic data was hastily gathered from the internet. There may be errors within 2% due to rounding. Also note that certian races were combined to fit our previous data."
   ]
  },
  {
   "cell_type": "markdown",
   "metadata": {},
   "source": [
    "To make writing code easier, we will encoude data in a numerical structure. The first item in the tuple corresponds to gender, the second item in the tuple corresponds to ethnicity.\n",
    "\n",
    "| Gender                      | Male | Female |\n",
    "| :-------------------------- | :--- | :----- |\n",
    "| Encoding number             | 0    | 1      |\n",
    "\n",
    "| Ethnicity                   | Caucasian | African-American | Hispanic | Asian | Other |\n",
    "| :-------------------------- | :-------- | :--------------- | :------- | :---- | :---- |\n",
    "| Encoding number             | 0         | 1                | 2        | 3     | 4     |\n",
    "\n",
    "\n",
    "Such that a (female, asian) = (1, 3)"
   ]
  },
  {
   "cell_type": "code",
   "execution_count": 92,
   "metadata": {
    "collapsed": true
   },
   "outputs": [],
   "source": [
    "class Movie(Suite, Joint):\n",
    "    def Likelihood(self, data, hypo):\n",
    "        \"\"\"\n",
    "        Likelihood returns the likelihood given a bayesian update consisting of a particular\n",
    "        hypothesis and data. In this case, we need to calculate the probability of seeing a\n",
    "        gender seeing a movie. Then we calculat the probability that an ethnicity saw a\n",
    "        movie. Finally we multiply the two to calculate the a person of a gender and \n",
    "        ethnicity saw a movie.\n",
    "        \n",
    "        Args:\n",
    "            data (str): The title of the movie\n",
    "            hypo (str): The hypothesis we are updating\n",
    "            \n",
    "        Return:\n",
    "            the likelihood for a hypothesis\n",
    "        \"\"\"\n",
    "        \n",
    "        movie = data        \n",
    "        gender = hypo[0]\n",
    "        ethnicity = hypo[1]\n",
    "        \n",
    "        # first calculate update based on gender\n",
    "        movies_gender = {'Furious 7'                    : {0:56, 1:44},\n",
    "                         'Inside Out'                   : {0:46, 1:54},\n",
    "                         'Avengers: Age of Ultron'      : {0:58, 1:42},\n",
    "                         'Star Wars: The Force Awakens' : {0:58, 1:42},\n",
    "                         'Jurassic World'               : {0:55, 1:45}\n",
    "                         }\n",
    "        \n",
    "        like_gender = movies_gender[movie][gender]\n",
    "        \n",
    "        # second calculate update based on ethnicity\n",
    "        movies_ethnicity = {'Furious 7'                    : {0:40, 1:22, 2:25, 3:8 , 4:5},\n",
    "                            'Inside Out'                   : {0:54, 1:15, 2:16, 3:9 , 4:4},\n",
    "                            'Avengers: Age of Ultron'      : {0:50, 1:16, 2:20, 3:10, 4:5},\n",
    "                            'Star Wars: The Force Awakens' : {0:61, 1:12, 2:15, 3:7 , 4:5},\n",
    "                            'Jurassic World'               : {0:39, 1:16, 2:19, 3:11, 4:6}\n",
    "                 }\n",
    "        \n",
    "        like_ethnicity = movies_ethnicity[movie][ethnicity]\n",
    "        \n",
    "        # multiply the two together and return\n",
    "        return like_gender * like_ethnicity\n",
    "        \n",
    "    "
   ]
  },
  {
   "cell_type": "markdown",
   "metadata": {},
   "source": [
    "Next we make our hypotheses and input them as tuples into the Movie class."
   ]
  },
  {
   "cell_type": "code",
   "execution_count": 105,
   "metadata": {
    "collapsed": false
   },
   "outputs": [
    {
     "name": "stdout",
     "output_type": "stream",
     "text": [
      "(0, 0) 0.1\n",
      "(0, 1) 0.1\n",
      "(0, 2) 0.1\n",
      "(0, 3) 0.1\n",
      "(0, 4) 0.1\n",
      "(1, 0) 0.1\n",
      "(1, 1) 0.1\n",
      "(1, 2) 0.1\n",
      "(1, 3) 0.1\n",
      "(1, 4) 0.1\n"
     ]
    }
   ],
   "source": [
    "genders = range(0,2)\n",
    "ethnicities = range(0,5)\n",
    "pairs = [(gender, ethnicity) for gender in genders for ethnicity in ethnicities]\n",
    "\n",
    "movie = Movie(pairs)\n",
    "movie.Print()"
   ]
  },
  {
   "cell_type": "markdown",
   "metadata": {},
   "source": [
    "We decided that we are picking a random person in the United states. So, we can use population demographics of the United States as an informed prior. We will assume that the United States is 50% male and 50% female. Population percent is defined in the order which we enumerate ethnicities."
   ]
  },
  {
   "cell_type": "code",
   "execution_count": 106,
   "metadata": {
    "collapsed": false
   },
   "outputs": [
    {
     "name": "stdout",
     "output_type": "stream",
     "text": [
      "(0, 0) 0.3185\n",
      "(0, 1) 0.061\n",
      "(0, 2) 0.0815\n",
      "(0, 3) 0.0235\n",
      "(0, 4) 0.015500000000000002\n",
      "(1, 0) 0.3185\n",
      "(1, 1) 0.061\n",
      "(1, 2) 0.0815\n",
      "(1, 3) 0.0235\n",
      "(1, 4) 0.015500000000000002\n"
     ]
    }
   ],
   "source": [
    "# If there is time, I will update this code to make it look nicer. For now, it works.\n",
    "population_percent = [63.7, 12.2, 16.3, 4.7, 3.1, 63.7, 12.2, 16.3, 4.7, 3.1]\n",
    "\n",
    "for i in range(len(population_percent)):\n",
    "    movie[pairs[i]] = population_percent[i]\n",
    "\n",
    "movie.Normalize()\n",
    "movie.Print()"
   ]
  },
  {
   "cell_type": "markdown",
   "metadata": {},
   "source": [
    "Next update with the two movies"
   ]
  },
  {
   "cell_type": "code",
   "execution_count": 107,
   "metadata": {
    "collapsed": false
   },
   "outputs": [
    {
     "data": {
      "text/plain": [
       "1969.1499999999999"
      ]
     },
     "execution_count": 107,
     "metadata": {},
     "output_type": "execute_result"
    }
   ],
   "source": [
    "movie.Update('Inside Out')"
   ]
  },
  {
   "cell_type": "code",
   "execution_count": 108,
   "metadata": {
    "collapsed": false
   },
   "outputs": [
    {
     "name": "stdout",
     "output_type": "stream",
     "text": [
      "(0, 0) 0.4017743696518802\n",
      "(0, 1) 0.021374704821877456\n",
      "(0, 2) 0.03046187441281771\n",
      "(0, 3) 0.004940710458827413\n",
      "(0, 4) 0.0014483406545971614\n",
      "(1, 0) 0.4716481730695985\n",
      "(1, 1) 0.02509204479089962\n",
      "(1, 2) 0.0357595917020034\n",
      "(1, 3) 0.005799964451666963\n",
      "(1, 4) 0.0017002259858314502\n"
     ]
    }
   ],
   "source": [
    "movie.Normalize()\n",
    "movie.Print()"
   ]
  },
  {
   "cell_type": "markdown",
   "metadata": {},
   "source": [
    "Given that a random person has seen Inside Out, the probability that the person is both female and Asian is .58%. Interestingly, when we update our hypotheses with our data, the the chance that the randomly selected person is caucasian goes up to 87%. It seems that our model just increases the chance that the randomly selected person is caucasian after seeing a movie."
   ]
  },
  {
   "cell_type": "code",
   "execution_count": null,
   "metadata": {
    "collapsed": true
   },
   "outputs": [],
   "source": []
  },
  {
   "cell_type": "code",
   "execution_count": null,
   "metadata": {
    "collapsed": true
   },
   "outputs": [],
   "source": []
  },
  {
   "cell_type": "code",
   "execution_count": null,
   "metadata": {
    "collapsed": true
   },
   "outputs": [],
   "source": []
  }
 ],
 "metadata": {
  "kernelspec": {
   "display_name": "Python 3",
   "language": "python",
   "name": "python3"
  },
  "language_info": {
   "codemirror_mode": {
    "name": "ipython",
    "version": 3
   },
   "file_extension": ".py",
   "mimetype": "text/x-python",
   "name": "python",
   "nbconvert_exporter": "python",
   "pygments_lexer": "ipython3",
   "version": "3.5.2"
  }
 },
 "nbformat": 4,
 "nbformat_minor": 1
}
