{
 "cells": [
  {
   "cell_type": "markdown",
   "metadata": {},
   "source": [
    "# Report04 - Nathan Yee\n",
    "\n",
    "This notebook contains report04 for computational baysian statistics fall 2016\n",
    "\n",
    "MIT License: https://opensource.org/licenses/MIT"
   ]
  },
  {
   "cell_type": "code",
   "execution_count": 1,
   "metadata": {
    "collapsed": true
   },
   "outputs": [],
   "source": [
    "from __future__ import print_function, division\n",
    "\n",
    "% matplotlib inline\n",
    "import warnings\n",
    "warnings.filterwarnings('ignore')\n",
    "\n",
    "import math\n",
    "import numpy as np\n",
    "\n",
    "from thinkbayes2 import Pmf, Cdf, Suite, Joint, EvalNormalPdf, MakeNormalPmf, MakeMixture\n",
    "import thinkplot\n",
    "\n",
    "import matplotlib.pyplot as plt\n",
    "import pandas as pd"
   ]
  },
  {
   "cell_type": "markdown",
   "metadata": {},
   "source": [
    "## Parking meter theft\n",
    "\n",
    "From DASL(http://lib.stat.cmu.edu/DASL/Datafiles/brinkdat.html)\n",
    "\n",
    ">The variable CON in the datafile Parking Meter Theft represents monthly parking meter collections by the principle contractor in New York City from May 1977 to March 1981. In addition to contractor collections, the city made collections from a number of \"control\" meters close to City Hall. These are recorded under the varia- ble CITY. From May 1978 to April 1980 the contractor was Brink's. In 1983 the city presented evidence in court that Brink's employees has been stealing parking meter moneys - delivering to the city less than the total collections. The court was satisfied that theft has taken place, but the actual amount of shortage was in question. Assume that there was no theft before or after Brink's tenure and estimate the monthly short- age and its 95% confidence limits.\n",
    "\n",
    "So we are asking two questions. What is the probability that that money has been stolen? And how much money was stolen?\n",
    "\n",
    "This problem is similar to that of \"Improving Reading Ability\" by Allen Downey\n",
    "\n",
    "This is a repeat problem from last report but I've spend a couple of hours revising my calculations, improving explanation, and cleaning up rushed code."
   ]
  },
  {
   "cell_type": "markdown",
   "metadata": {},
   "source": [
    "To do this, we will use a series of distributions and see which are most likely based on the parking meter data. To start, we load our data from the csv file."
   ]
  },
  {
   "cell_type": "code",
   "execution_count": 2,
   "metadata": {
    "collapsed": false
   },
   "outputs": [
    {
     "data": {
      "text/html": [
       "<div>\n",
       "<table border=\"1\" class=\"dataframe\">\n",
       "  <thead>\n",
       "    <tr style=\"text-align: right;\">\n",
       "      <th></th>\n",
       "      <th>TIME</th>\n",
       "      <th>CON</th>\n",
       "      <th>CITY</th>\n",
       "      <th>BRINK</th>\n",
       "    </tr>\n",
       "  </thead>\n",
       "  <tbody>\n",
       "    <tr>\n",
       "      <th>0</th>\n",
       "      <td>1</td>\n",
       "      <td>2224277</td>\n",
       "      <td>6729</td>\n",
       "      <td>0</td>\n",
       "    </tr>\n",
       "    <tr>\n",
       "      <th>1</th>\n",
       "      <td>2</td>\n",
       "      <td>1892672</td>\n",
       "      <td>5751</td>\n",
       "      <td>0</td>\n",
       "    </tr>\n",
       "    <tr>\n",
       "      <th>2</th>\n",
       "      <td>3</td>\n",
       "      <td>1468074</td>\n",
       "      <td>6711</td>\n",
       "      <td>0</td>\n",
       "    </tr>\n",
       "    <tr>\n",
       "      <th>3</th>\n",
       "      <td>4</td>\n",
       "      <td>1618966</td>\n",
       "      <td>7069</td>\n",
       "      <td>0</td>\n",
       "    </tr>\n",
       "    <tr>\n",
       "      <th>4</th>\n",
       "      <td>5</td>\n",
       "      <td>1509195</td>\n",
       "      <td>7134</td>\n",
       "      <td>0</td>\n",
       "    </tr>\n",
       "  </tbody>\n",
       "</table>\n",
       "</div>"
      ],
      "text/plain": [
       "   TIME      CON  CITY  BRINK\n",
       "0     1  2224277  6729      0\n",
       "1     2  1892672  5751      0\n",
       "2     3  1468074  6711      0\n",
       "3     4  1618966  7069      0\n",
       "4     5  1509195  7134      0"
      ]
     },
     "execution_count": 2,
     "metadata": {},
     "output_type": "execute_result"
    }
   ],
   "source": [
    "df = pd.read_csv('parking.csv', skiprows=17, delimiter='\\t')\n",
    "df.head()"
   ]
  },
  {
   "cell_type": "markdown",
   "metadata": {},
   "source": [
    "Next, we need to normalize the CON (contractor) collections by the amount gathered by the CITY. This will give us a ratio of contractor collections to city collections."
   ]
  },
  {
   "cell_type": "code",
   "execution_count": 3,
   "metadata": {
    "collapsed": true
   },
   "outputs": [],
   "source": [
    "df['RATIO'] = df['CON'] / df['CITY']"
   ]
  },
  {
   "cell_type": "markdown",
   "metadata": {},
   "source": [
    "Next, lets see how the means of the RATIO data compare between the general contractors and BRINK."
   ]
  },
  {
   "cell_type": "code",
   "execution_count": 4,
   "metadata": {
    "collapsed": false,
    "scrolled": true
   },
   "outputs": [
    {
     "name": "stdout",
     "output_type": "stream",
     "text": [
      "0 244.681143201\n",
      "1 229.583858011\n"
     ]
    }
   ],
   "source": [
    "grouped = df.groupby('BRINK')\n",
    "for name, group in grouped:\n",
    "    print(name, group.RATIO.mean())"
   ]
  },
  {
   "cell_type": "markdown",
   "metadata": {},
   "source": [
    "We see that for every dollar gathered by the city, general contractors report 244.7 dollars while BRINK only reports 229.6 dollars."
   ]
  },
  {
   "cell_type": "markdown",
   "metadata": {},
   "source": [
    "To further investigate the differences between BRINK and general contractors, we will use bayesian statistics to see what values of `mu` and `sigma` of normal distributions fit our data. So, we create a class that accepts `mu's` and `sigmas's`. The likelihhod function allows us to iterate over our hypotheses and see which values of `mu` and `sigma` are most likely."
   ]
  },
  {
   "cell_type": "code",
   "execution_count": 5,
   "metadata": {
    "collapsed": true
   },
   "outputs": [],
   "source": [
    "from scipy.stats import norm\n",
    "\n",
    "class Normal(Suite, Joint):\n",
    "    \n",
    "    def Likelihood(self, data, hypo):\n",
    "        \"\"\"\n",
    "        Computes the likelihood of a pair of mu and sigma given data. In this case, our\n",
    "        data consists the ratios of contractor collections to city collections.\n",
    "        \n",
    "        Args:\n",
    "            data: sequence of ratios of contractor collections to city collections.\n",
    "            hypo: mu, sigma\n",
    "            \n",
    "        Returns:\n",
    "            The likelihood of the data under the paricular mu and sigma\n",
    "        \"\"\"\n",
    "        mu, sigma = hypo\n",
    "        likes = norm.pdf(data, mu, sigma)\n",
    "        return np.prod(likes)"
   ]
  },
  {
   "cell_type": "markdown",
   "metadata": {},
   "source": [
    "Now, we want to calculate the marginal distribution of `mu` for the general contractors and BRINK. We can determine a distribution of how much money was stolen by calculating the difference between these distributions."
   ]
  },
  {
   "cell_type": "markdown",
   "metadata": {},
   "source": [
    "First we will generate sequences of `mu's` and `sigmas`."
   ]
  },
  {
   "cell_type": "code",
   "execution_count": 6,
   "metadata": {
    "collapsed": true
   },
   "outputs": [],
   "source": [
    "mus = np.linspace(210, 270, 301)\n",
    "sigmas = np.linspace(10, 65, 301)"
   ]
  },
  {
   "cell_type": "markdown",
   "metadata": {},
   "source": [
    "Next, create our hypotheses as pairs of these `mu's` and `sigmas`."
   ]
  },
  {
   "cell_type": "code",
   "execution_count": 7,
   "metadata": {
    "collapsed": false
   },
   "outputs": [
    {
     "data": {
      "text/plain": [
       "3.1085419397107893e-52"
      ]
     },
     "execution_count": 7,
     "metadata": {},
     "output_type": "execute_result"
    }
   ],
   "source": [
    "from itertools import product\n",
    "\n",
    "general = Normal(product(mus, sigmas))\n",
    "data = df[df.BRINK==0].RATIO\n",
    "general.Update(data)"
   ]
  },
  {
   "cell_type": "markdown",
   "metadata": {},
   "source": [
    "Next, we use a contour plot to make sure we have selected a proper range of `mu's` and `sigmas`."
   ]
  },
  {
   "cell_type": "code",
   "execution_count": 8,
   "metadata": {
    "collapsed": false
   },
   "outputs": [
    {
     "data": {
      "image/png": "[encoded data removed]",
      "text/plain": [
       "<matplotlib.figure.Figure at 0x7f55e46dc710>"
      ]
     },
     "metadata": {},
     "output_type": "display_data"
    }
   ],
   "source": [
    "thinkplot.Contour(general, pcolor=True)\n",
    "thinkplot.Config(xlabel='mu', ylabel='sigma')"
   ]
  },
  {
   "cell_type": "markdown",
   "metadata": {},
   "source": [
    "We see that our values of `mu` and `sigma` fit well within cutoff range."
   ]
  },
  {
   "cell_type": "markdown",
   "metadata": {},
   "source": [
    "Now, do the same for BRINK."
   ]
  },
  {
   "cell_type": "code",
   "execution_count": 9,
   "metadata": {
    "collapsed": false
   },
   "outputs": [
    {
     "data": {
      "image/png": "[encoded data removed]",
      "text/plain": [
       "<matplotlib.figure.Figure at 0x7f55b73a2f98>"
      ]
     },
     "metadata": {},
     "output_type": "display_data"
    }
   ],
   "source": [
    "brink = Normal(product(mus, sigmas))\n",
    "data = df[df.BRINK==1].RATIO\n",
    "brink.Update(data)\n",
    "\n",
    "thinkplot.Contour(brink, pcolor=True)\n",
    "thinkplot.Config(xlabel='mu', ylabel='sigma')"
   ]
  },
  {
   "cell_type": "markdown",
   "metadata": {},
   "source": [
    "Finally, to get a distribution of possible ratio values, we extract the marginal distributions of `mu` from both the general contractors and BRINK."
   ]
  },
  {
   "cell_type": "code",
   "execution_count": 10,
   "metadata": {
    "collapsed": false
   },
   "outputs": [
    {
     "data": {
      "image/png": "[encoded data removed]",
      "text/plain": [
       "<matplotlib.figure.Figure at 0x7f55b73daa90>"
      ]
     },
     "metadata": {},
     "output_type": "display_data"
    }
   ],
   "source": [
    "general_mu = general.Marginal(0)\n",
    "thinkplot.Pdf(general_mu)\n",
    "thinkplot.Config(xlabel='mu', ylabel='Pmf')"
   ]
  },
  {
   "cell_type": "code",
   "execution_count": 11,
   "metadata": {
    "collapsed": false
   },
   "outputs": [
    {
     "data": {
      "image/png": "[encoded data removed]",
      "text/plain": [
       "<matplotlib.figure.Figure at 0x7f55b629bb70>"
      ]
     },
     "metadata": {},
     "output_type": "display_data"
    }
   ],
   "source": [
    "BRINK_mu = brink.Marginal(0)\n",
    "thinkplot.Pdf(BRINK_mu)\n",
    "thinkplot.Config(xlabel='mu', ylabel='Pmf')"
   ]
  },
  {
   "cell_type": "markdown",
   "metadata": {},
   "source": [
    "To see how much money was stolen, we compute the difference of the marginal distributions. This immediately gives us difference of the means of the ratios as we could have calcuated earlier."
   ]
  },
  {
   "cell_type": "code",
   "execution_count": 12,
   "metadata": {
    "collapsed": false
   },
   "outputs": [
    {
     "data": {
      "text/plain": [
       "-15.022318455572226"
      ]
     },
     "execution_count": 12,
     "metadata": {},
     "output_type": "execute_result"
    }
   ],
   "source": [
    "pmf_diff = BRINK_mu - general_mu\n",
    "pmf_diff.Mean()"
   ]
  },
  {
   "cell_type": "markdown",
   "metadata": {},
   "source": [
    "To calculate the probability that money was stolen from the city, we simply look at a plot of the cdf of pmf_diff and see the probability that the difference is less than zero."
   ]
  },
  {
   "cell_type": "code",
   "execution_count": 13,
   "metadata": {
    "collapsed": false
   },
   "outputs": [
    {
     "data": {
      "text/plain": [
       "0.93875832542936855"
      ]
     },
     "execution_count": 13,
     "metadata": {},
     "output_type": "execute_result"
    },
    {
     "data": {
      "image/png": "[encoded data removed]",
      "text/plain": [
       "<matplotlib.figure.Figure at 0x7f55b620a6d8>"
      ]
     },
     "metadata": {},
     "output_type": "display_data"
    }
   ],
   "source": [
    "cdf_diff = pmf_diff.MakeCdf()\n",
    "thinkplot.Cdf(cdf_diff)\n",
    "thinkplot.Config(xlabel='ratio difference', ylabel='cumulative probability')\n",
    "cdf_diff[0]"
   ]
  },
  {
   "cell_type": "markdown",
   "metadata": {},
   "source": [
    "And we have answered the first question: the probability that money was stolen from the city is 93.9%"
   ]
  },
  {
   "cell_type": "markdown",
   "metadata": {},
   "source": [
    "And lastly, we calculate how much money was stolen from the city. To do this, we first calculate how much money the city collected during (general or Brink) times. Then we can multiply this times our pmf_diff to get a probability distribution of potential stolen money."
   ]
  },
  {
   "cell_type": "code",
   "execution_count": 14,
   "metadata": {
    "collapsed": false
   },
   "outputs": [
    {
     "name": "stdout",
     "output_type": "stream",
     "text": [
      "(-3594455.9999999991, -1431125.9999999991)\n"
     ]
    },
    {
     "data": {
      "image/png": "[encoded data removed]",
      "text/plain": [
       "<matplotlib.figure.Figure at 0x7f55b6194ba8>"
      ]
     },
     "metadata": {},
     "output_type": "display_data"
    }
   ],
   "source": [
    "money_city = np.where(df['BRINK']==1, df['CITY'], 0).sum(0)\n",
    "print((pmf_diff * money_city).CredibleInterval(50))\n",
    "thinkplot.Pmf(pmf_diff * money_city)"
   ]
  },
  {
   "cell_type": "markdown",
   "metadata": {
    "collapsed": true
   },
   "source": [
    "Above we see a plot of stolen money in millions. We have also calculated a credible interval that tells us that there is a 50% chance that Brink stole between 1.4 to 3.6 million dollars. Interestingly, our distribution tells us that there is a probability that BRINK actually gave the city money. However, this is extremely unlikely and is an artifact of our normal distribution."
   ]
  },
  {
   "cell_type": "markdown",
   "metadata": {
    "collapsed": true
   },
   "source": [
    "# How good is that cereal?\n",
    "http://lib.stat.cmu.edu/DASL/Datafiles/Cereals.html"
   ]
  },
  {
   "cell_type": "code",
   "execution_count": 15,
   "metadata": {
    "collapsed": false
   },
   "outputs": [
    {
     "data": {
      "text/html": [
       "<div>\n",
       "<table border=\"1\" class=\"dataframe\">\n",
       "  <thead>\n",
       "    <tr style=\"text-align: right;\">\n",
       "      <th></th>\n",
       "      <th>name</th>\n",
       "      <th>calories</th>\n",
       "      <th>protein</th>\n",
       "      <th>fat</th>\n",
       "      <th>sodium</th>\n",
       "      <th>fiber</th>\n",
       "      <th>carbo</th>\n",
       "      <th>sugars</th>\n",
       "      <th>potass</th>\n",
       "      <th>cups</th>\n",
       "      <th>rating</th>\n",
       "    </tr>\n",
       "  </thead>\n",
       "  <tbody>\n",
       "    <tr>\n",
       "      <th>0</th>\n",
       "      <td>100%_Bran</td>\n",
       "      <td>70</td>\n",
       "      <td>4</td>\n",
       "      <td>1</td>\n",
       "      <td>130</td>\n",
       "      <td>10</td>\n",
       "      <td>5</td>\n",
       "      <td>6</td>\n",
       "      <td>280</td>\n",
       "      <td>0.33</td>\n",
       "      <td>68.402973</td>\n",
       "    </tr>\n",
       "    <tr>\n",
       "      <th>1</th>\n",
       "      <td>100%_Natural_Bran</td>\n",
       "      <td>120</td>\n",
       "      <td>3</td>\n",
       "      <td>5</td>\n",
       "      <td>15</td>\n",
       "      <td>2</td>\n",
       "      <td>8</td>\n",
       "      <td>8</td>\n",
       "      <td>135</td>\n",
       "      <td>1.00</td>\n",
       "      <td>33.983679</td>\n",
       "    </tr>\n",
       "    <tr>\n",
       "      <th>2</th>\n",
       "      <td>All-Bran</td>\n",
       "      <td>70</td>\n",
       "      <td>4</td>\n",
       "      <td>1</td>\n",
       "      <td>260</td>\n",
       "      <td>9</td>\n",
       "      <td>7</td>\n",
       "      <td>5</td>\n",
       "      <td>320</td>\n",
       "      <td>0.33</td>\n",
       "      <td>59.425505</td>\n",
       "    </tr>\n",
       "    <tr>\n",
       "      <th>3</th>\n",
       "      <td>All-Bran_with_Extra_Fiber</td>\n",
       "      <td>50</td>\n",
       "      <td>4</td>\n",
       "      <td>0</td>\n",
       "      <td>140</td>\n",
       "      <td>14</td>\n",
       "      <td>8</td>\n",
       "      <td>0</td>\n",
       "      <td>330</td>\n",
       "      <td>0.50</td>\n",
       "      <td>93.704912</td>\n",
       "    </tr>\n",
       "    <tr>\n",
       "      <th>4</th>\n",
       "      <td>Almond_Delight</td>\n",
       "      <td>110</td>\n",
       "      <td>2</td>\n",
       "      <td>2</td>\n",
       "      <td>200</td>\n",
       "      <td>1</td>\n",
       "      <td>14</td>\n",
       "      <td>8</td>\n",
       "      <td>-1</td>\n",
       "      <td>0.75</td>\n",
       "      <td>34.384843</td>\n",
       "    </tr>\n",
       "  </tbody>\n",
       "</table>\n",
       "</div>"
      ],
      "text/plain": [
       "                        name  calories  protein  fat  sodium  fiber  carbo  \\\n",
       "0                  100%_Bran        70        4    1     130     10      5   \n",
       "1          100%_Natural_Bran       120        3    5      15      2      8   \n",
       "2                   All-Bran        70        4    1     260      9      7   \n",
       "3  All-Bran_with_Extra_Fiber        50        4    0     140     14      8   \n",
       "4             Almond_Delight       110        2    2     200      1     14   \n",
       "\n",
       "   sugars  potass  cups     rating  \n",
       "0       6     280  0.33  68.402973  \n",
       "1       8     135  1.00  33.983679  \n",
       "2       5     320  0.33  59.425505  \n",
       "3       0     330  0.50  93.704912  \n",
       "4       8      -1  0.75  34.384843  "
      ]
     },
     "execution_count": 15,
     "metadata": {},
     "output_type": "execute_result"
    }
   ],
   "source": [
    "df = pd.read_csv('cereal.csv', skiprows=0, delimiter='\\t')\n",
    "df = df[['name','calories', 'protein', 'fat', 'sodium', 'fiber', 'carbo', 'sugars', 'potass', 'cups', 'rating']]\n",
    "df.head()"
   ]
  },
  {
   "cell_type": "code",
   "execution_count": 16,
   "metadata": {
    "collapsed": false
   },
   "outputs": [],
   "source": [
    "numerics = ['calories','protein','fat','sodium','fiber','carbo', 'sugars', 'potass', 'cups']"
   ]
  },
  {
   "cell_type": "code",
   "execution_count": 17,
   "metadata": {
    "collapsed": true
   },
   "outputs": [],
   "source": [
    "for column in numerics:\n",
    "    df[column] = df[column] / df['cups']"
   ]
  },
  {
   "cell_type": "code",
   "execution_count": 18,
   "metadata": {
    "collapsed": false
   },
   "outputs": [
    {
     "data": {
      "text/html": [
       "<div>\n",
       "<table border=\"1\" class=\"dataframe\">\n",
       "  <thead>\n",
       "    <tr style=\"text-align: right;\">\n",
       "      <th></th>\n",
       "      <th>name</th>\n",
       "      <th>calories</th>\n",
       "      <th>protein</th>\n",
       "      <th>fat</th>\n",
       "      <th>sodium</th>\n",
       "      <th>fiber</th>\n",
       "      <th>carbo</th>\n",
       "      <th>sugars</th>\n",
       "      <th>potass</th>\n",
       "      <th>cups</th>\n",
       "      <th>rating</th>\n",
       "    </tr>\n",
       "  </thead>\n",
       "  <tbody>\n",
       "    <tr>\n",
       "      <th>0</th>\n",
       "      <td>100%_Bran</td>\n",
       "      <td>212.121212</td>\n",
       "      <td>12.121212</td>\n",
       "      <td>3.030303</td>\n",
       "      <td>393.939394</td>\n",
       "      <td>30.303030</td>\n",
       "      <td>15.151515</td>\n",
       "      <td>18.181818</td>\n",
       "      <td>848.484848</td>\n",
       "      <td>1</td>\n",
       "      <td>68.402973</td>\n",
       "    </tr>\n",
       "    <tr>\n",
       "      <th>1</th>\n",
       "      <td>100%_Natural_Bran</td>\n",
       "      <td>120.000000</td>\n",
       "      <td>3.000000</td>\n",
       "      <td>5.000000</td>\n",
       "      <td>15.000000</td>\n",
       "      <td>2.000000</td>\n",
       "      <td>8.000000</td>\n",
       "      <td>8.000000</td>\n",
       "      <td>135.000000</td>\n",
       "      <td>1</td>\n",
       "      <td>33.983679</td>\n",
       "    </tr>\n",
       "    <tr>\n",
       "      <th>2</th>\n",
       "      <td>All-Bran</td>\n",
       "      <td>212.121212</td>\n",
       "      <td>12.121212</td>\n",
       "      <td>3.030303</td>\n",
       "      <td>787.878788</td>\n",
       "      <td>27.272727</td>\n",
       "      <td>21.212121</td>\n",
       "      <td>15.151515</td>\n",
       "      <td>969.696970</td>\n",
       "      <td>1</td>\n",
       "      <td>59.425505</td>\n",
       "    </tr>\n",
       "    <tr>\n",
       "      <th>3</th>\n",
       "      <td>All-Bran_with_Extra_Fiber</td>\n",
       "      <td>100.000000</td>\n",
       "      <td>8.000000</td>\n",
       "      <td>0.000000</td>\n",
       "      <td>280.000000</td>\n",
       "      <td>28.000000</td>\n",
       "      <td>16.000000</td>\n",
       "      <td>0.000000</td>\n",
       "      <td>660.000000</td>\n",
       "      <td>1</td>\n",
       "      <td>93.704912</td>\n",
       "    </tr>\n",
       "    <tr>\n",
       "      <th>4</th>\n",
       "      <td>Almond_Delight</td>\n",
       "      <td>146.666667</td>\n",
       "      <td>2.666667</td>\n",
       "      <td>2.666667</td>\n",
       "      <td>266.666667</td>\n",
       "      <td>1.333333</td>\n",
       "      <td>18.666667</td>\n",
       "      <td>10.666667</td>\n",
       "      <td>-1.333333</td>\n",
       "      <td>1</td>\n",
       "      <td>34.384843</td>\n",
       "    </tr>\n",
       "  </tbody>\n",
       "</table>\n",
       "</div>"
      ],
      "text/plain": [
       "                        name    calories    protein       fat      sodium  \\\n",
       "0                  100%_Bran  212.121212  12.121212  3.030303  393.939394   \n",
       "1          100%_Natural_Bran  120.000000   3.000000  5.000000   15.000000   \n",
       "2                   All-Bran  212.121212  12.121212  3.030303  787.878788   \n",
       "3  All-Bran_with_Extra_Fiber  100.000000   8.000000  0.000000  280.000000   \n",
       "4             Almond_Delight  146.666667   2.666667  2.666667  266.666667   \n",
       "\n",
       "       fiber      carbo     sugars      potass  cups     rating  \n",
       "0  30.303030  15.151515  18.181818  848.484848     1  68.402973  \n",
       "1   2.000000   8.000000   8.000000  135.000000     1  33.983679  \n",
       "2  27.272727  21.212121  15.151515  969.696970     1  59.425505  \n",
       "3  28.000000  16.000000   0.000000  660.000000     1  93.704912  \n",
       "4   1.333333  18.666667  10.666667   -1.333333     1  34.384843  "
      ]
     },
     "execution_count": 18,
     "metadata": {},
     "output_type": "execute_result"
    }
   ],
   "source": [
    "df.head()"
   ]
  },
  {
   "cell_type": "code",
   "execution_count": 19,
   "metadata": {
    "collapsed": false
   },
   "outputs": [
    {
     "data": {
      "text/plain": [
       "<matplotlib.axes._subplots.AxesSubplot at 0x7f55b61ec668>"
      ]
     },
     "execution_count": 19,
     "metadata": {},
     "output_type": "execute_result"
    },
    {
     "data": {
      "image/png": "[encoded data removed]",
      "text/plain": [
       "<matplotlib.figure.Figure at 0x7f55b6212588>"
      ]
     },
     "metadata": {},
     "output_type": "display_data"
    }
   ],
   "source": [
    "df.plot('fat', 'rating', kind='scatter')"
   ]
  },
  {
   "cell_type": "markdown",
   "metadata": {},
   "source": [
    "# Smoking kills, analysis of smoking in different states\n",
    "\n",
    "http://lib.stat.cmu.edu/DASL/Datafiles/cigcancerdat.html\n",
    "\n",
    ">The data are per capita numbers of cigarettes smoked (sold) by 43 states and the \n",
    "District of Columbia in 1960 together with death rates per thouusand population from\n",
    "various forms of cancer.\n",
    "\n",
    "If California were to lower its number of cigarette sold per capita from 28.60 to 20, how many people would die from lung cancer per 1,000 people?\n",
    "\n",
    "To answer this question, I combine known values of California (CIG = 28.60, LUNG = 22.07) with a predictive distribution for any state at CIG = 20 to estimate the death rate from lung cancer per 1,000 people. To get this predictive distribution, I will use bayesian linear regression."
   ]
  },
  {
   "cell_type": "markdown",
   "metadata": {},
   "source": [
    "First, let's load our data into a Pandas dataframe to see what it looks like."
   ]
  },
  {
   "cell_type": "code",
   "execution_count": 2,
   "metadata": {
    "collapsed": false
   },
   "outputs": [
    {
     "data": {
      "text/html": [
       "<div>\n",
       "<table border=\"1\" class=\"dataframe\">\n",
       "  <thead>\n",
       "    <tr style=\"text-align: right;\">\n",
       "      <th></th>\n",
       "      <th>STATE</th>\n",
       "      <th>CIG</th>\n",
       "      <th>BLAD</th>\n",
       "      <th>LUNG</th>\n",
       "      <th>KID</th>\n",
       "      <th>LEUK</th>\n",
       "    </tr>\n",
       "  </thead>\n",
       "  <tbody>\n",
       "    <tr>\n",
       "      <th>0</th>\n",
       "      <td>AL</td>\n",
       "      <td>18.20</td>\n",
       "      <td>2.90</td>\n",
       "      <td>17.05</td>\n",
       "      <td>1.59</td>\n",
       "      <td>6.15</td>\n",
       "    </tr>\n",
       "    <tr>\n",
       "      <th>1</th>\n",
       "      <td>AZ</td>\n",
       "      <td>25.82</td>\n",
       "      <td>3.52</td>\n",
       "      <td>19.80</td>\n",
       "      <td>2.75</td>\n",
       "      <td>6.61</td>\n",
       "    </tr>\n",
       "    <tr>\n",
       "      <th>2</th>\n",
       "      <td>AR</td>\n",
       "      <td>18.24</td>\n",
       "      <td>2.99</td>\n",
       "      <td>15.98</td>\n",
       "      <td>2.02</td>\n",
       "      <td>6.94</td>\n",
       "    </tr>\n",
       "    <tr>\n",
       "      <th>3</th>\n",
       "      <td>CA</td>\n",
       "      <td>28.60</td>\n",
       "      <td>4.46</td>\n",
       "      <td>22.07</td>\n",
       "      <td>2.66</td>\n",
       "      <td>7.06</td>\n",
       "    </tr>\n",
       "    <tr>\n",
       "      <th>4</th>\n",
       "      <td>CT</td>\n",
       "      <td>31.10</td>\n",
       "      <td>5.11</td>\n",
       "      <td>22.83</td>\n",
       "      <td>3.35</td>\n",
       "      <td>7.20</td>\n",
       "    </tr>\n",
       "  </tbody>\n",
       "</table>\n",
       "</div>"
      ],
      "text/plain": [
       "  STATE    CIG  BLAD   LUNG   KID  LEUK\n",
       "0    AL  18.20  2.90  17.05  1.59  6.15\n",
       "1    AZ  25.82  3.52  19.80  2.75  6.61\n",
       "2    AR  18.24  2.99  15.98  2.02  6.94\n",
       "3    CA  28.60  4.46  22.07  2.66  7.06\n",
       "4    CT  31.10  5.11  22.83  3.35  7.20"
      ]
     },
     "execution_count": 2,
     "metadata": {},
     "output_type": "execute_result"
    }
   ],
   "source": [
    "df = pd.read_csv('smokingKills.csv', skiprows=21, delimiter='\\t')\n",
    "df.head()"
   ]
  },
  {
   "cell_type": "markdown",
   "metadata": {},
   "source": [
    "Data seems reasonable, now let's see if a linear regression is appropriate for predicting distributions."
   ]
  },
  {
   "cell_type": "code",
   "execution_count": 3,
   "metadata": {
    "collapsed": false
   },
   "outputs": [
    {
     "data": {
      "text/plain": [
       "<matplotlib.axes._subplots.AxesSubplot at 0x7f06defa7978>"
      ]
     },
     "execution_count": 3,
     "metadata": {},
     "output_type": "execute_result"
    },
    {
     "data": {
      "image/png": "[encoded data removed]",
      "text/plain": [
       "<matplotlib.figure.Figure at 0x7f070c227128>"
      ]
     },
     "metadata": {},
     "output_type": "display_data"
    }
   ],
   "source": [
    "df.plot('CIG', 'LUNG', kind='scatter')"
   ]
  },
  {
   "cell_type": "markdown",
   "metadata": {},
   "source": [
    "Data looks pretty linear. Now let's get the slope and intercept of the line of least squares. Abstract numpy's least squares function using a function of our own."
   ]
  },
  {
   "cell_type": "code",
   "execution_count": 4,
   "metadata": {
    "collapsed": true
   },
   "outputs": [],
   "source": [
    "def leastSquares(x, y):\n",
    "    \"\"\"\n",
    "    leastSquares takes in two arrays of values. Then it returns the slope and intercept\n",
    "    of the least squares of the two.\n",
    "    \n",
    "    Args:\n",
    "        x (numpy array): numpy array of values.\n",
    "        y (numpy array): numpy array of values.\n",
    "        \n",
    "    Returns:\n",
    "        slope, intercept (tuple): returns a tuple of floats.\n",
    "    \"\"\"\n",
    "    A = np.vstack([x, np.ones(len(x))]).T\n",
    "    slope, intercept = np.linalg.lstsq(A, y)[0]\n",
    "    return slope, intercept"
   ]
  },
  {
   "cell_type": "markdown",
   "metadata": {},
   "source": [
    "To use our leastSquares function, we first create x and y vectors. Where x is the cig, y is the lung. Then call leastSquares to get the slope and intercept."
   ]
  },
  {
   "cell_type": "code",
   "execution_count": 27,
   "metadata": {
    "collapsed": false
   },
   "outputs": [
    {
     "name": "stdout",
     "output_type": "stream",
     "text": [
      "0.529077926985 6.47168624727\n"
     ]
    }
   ],
   "source": [
    "cigs = np.array(df['CIG'])\n",
    "lungs = np.array(df['LUNG'])\n",
    "\n",
    "slope, intercept = leastSquares(cigs, lungs)\n",
    "print(slope, intercept)"
   ]
  },
  {
   "cell_type": "markdown",
   "metadata": {},
   "source": [
    "Now plot the line and the original data to see if it looks linear."
   ]
  },
  {
   "cell_type": "code",
   "execution_count": 6,
   "metadata": {
    "collapsed": false
   },
   "outputs": [
    {
     "data": {
      "image/png": "[encoded data removed]",
      "text/plain": [
       "<matplotlib.figure.Figure at 0x7f06ded16b70>"
      ]
     },
     "metadata": {},
     "output_type": "display_data"
    }
   ],
   "source": [
    "plt.plot(cigs, lungs, 'o', label='Original data', markersize=10)\n",
    "plt.plot(cigs, slope*cigs + intercept, 'r', label='Fitted line')\n",
    "plt.legend()\n",
    "plt.show()"
   ]
  },
  {
   "cell_type": "markdown",
   "metadata": {},
   "source": [
    "Nice. Based on the plot above, we can conclude that bayesian linear regression will give us reasonable distributions for predicting future values. Now we want to create our hypotheses. Each hypothesis will consist of a intercept, slope and sigma."
   ]
  },
  {
   "cell_type": "code",
   "execution_count": 9,
   "metadata": {
    "collapsed": true
   },
   "outputs": [],
   "source": [
    "intercepts = np.linspace(7.5, 8, 5)\n",
    "slopes = np.linspace(.4, .5, 5)\n",
    "sigmas = np.linspace(4.5, 5.5, 5)"
   ]
  },
  {
   "cell_type": "markdown",
   "metadata": {},
   "source": [
    "Create hypos and our update data."
   ]
  },
  {
   "cell_type": "code",
   "execution_count": 10,
   "metadata": {
    "collapsed": false
   },
   "outputs": [],
   "source": [
    "hypos = ((intercept, slope, sigma) for intercept in intercepts \n",
    "         for slope in slopes for sigma in sigmas)\n",
    "\n",
    "data = [(cig, lung) for cig in cigs for lung in lungs]"
   ]
  },
  {
   "cell_type": "markdown",
   "metadata": {},
   "source": [
    "Create least squares suite. The likelihood function will depend the data and normal distributions for each hypothesis."
   ]
  },
  {
   "cell_type": "code",
   "execution_count": 13,
   "metadata": {
    "collapsed": true
   },
   "outputs": [],
   "source": [
    "class leastSquaresHypos(Suite, Joint):\n",
    "    def Likelihood(self, data, hypo):\n",
    "        \"\"\"\n",
    "        Likelihood calculates the probability of a particular line (hypo)\n",
    "        based on data (cigs Vs lungs) of our original dataset. This is\n",
    "        done with a normal pmf as each hypo also contains a sigma.\n",
    "        \n",
    "        Args:\n",
    "            data (tuple): tuple that contains ages (float), heights (float)\n",
    "            hypo (tuple): intercept (float), slope (float), sigma (float)\n",
    "            \n",
    "        Returns:\n",
    "            P(data|hypo)\n",
    "        \"\"\"\n",
    "        intercept, slope, sigma = hypo\n",
    "        total_likelihood = 1\n",
    "        for cig, measured_lung in data:\n",
    "            hypothesized_lung = slope * cig + intercept\n",
    "            error = measured_lung - hypothesized_lung\n",
    "            total_likelihood *= EvalNormalPdf(error, mu=0, sigma=sigma)\n",
    "        return total_likelihood        "
   ]
  },
  {
   "cell_type": "markdown",
   "metadata": {},
   "source": [
    "Now use our hypos to create the LeastSquaresHypos suite."
   ]
  },
  {
   "cell_type": "code",
   "execution_count": 15,
   "metadata": {
    "collapsed": true
   },
   "outputs": [],
   "source": [
    "LeastSquaresHypos = leastSquaresHypos(hypos)"
   ]
  },
  {
   "cell_type": "markdown",
   "metadata": {},
   "source": [
    "Update LeastSquaresHypos with our data."
   ]
  },
  {
   "cell_type": "code",
   "execution_count": 16,
   "metadata": {
    "collapsed": false
   },
   "outputs": [],
   "source": [
    "for item in data:\n",
    "    LeastSquaresHypos.Update([item])"
   ]
  },
  {
   "cell_type": "markdown",
   "metadata": {},
   "source": [
    "Next, use marginal distributions to see how our good our intercept, slope, and sigma guesses were. Note that I have already found values that work well. There aren't really guesses at this point."
   ]
  },
  {
   "cell_type": "markdown",
   "metadata": {},
   "source": [
    "For the intercepts, we choose to stay relatively close to our original intercept. This is the one value we sacrifice accuracy on. This ends up being OK because the slopes and sigmas are in good ranges. For a large value of x, slope and sigma diverge faster than intercept."
   ]
  },
  {
   "cell_type": "code",
   "execution_count": 17,
   "metadata": {
    "collapsed": false
   },
   "outputs": [
    {
     "data": {
      "image/png": "[encoded data removed]",
      "text/plain": [
       "<matplotlib.figure.Figure at 0x7f06dec21a20>"
      ]
     },
     "metadata": {},
     "output_type": "display_data"
    }
   ],
   "source": [
    "marginal_intercepts = LeastSquaresHypos.Marginal(0)\n",
    "thinkplot.hist(marginal_intercepts)"
   ]
  },
  {
   "cell_type": "markdown",
   "metadata": {},
   "source": [
    "All of the important slopes are contained in our guesses."
   ]
  },
  {
   "cell_type": "code",
   "execution_count": 18,
   "metadata": {
    "collapsed": false
   },
   "outputs": [
    {
     "data": {
      "image/png": "[encoded data removed]",
      "text/plain": [
       "<matplotlib.figure.Figure at 0x7f06deaf8710>"
      ]
     },
     "metadata": {},
     "output_type": "display_data"
    }
   ],
   "source": [
    "marginal_slopes = LeastSquaresHypos.Marginal(1)\n",
    "thinkplot.hist(marginal_slopes)"
   ]
  },
  {
   "cell_type": "markdown",
   "metadata": {},
   "source": [
    "All of the important sigmas are contained in our guesses."
   ]
  },
  {
   "cell_type": "code",
   "execution_count": 19,
   "metadata": {
    "collapsed": false
   },
   "outputs": [
    {
     "data": {
      "image/png": "[encoded data removed]",
      "text/plain": [
       "<matplotlib.figure.Figure at 0x7f06dea790b8>"
      ]
     },
     "metadata": {},
     "output_type": "display_data"
    }
   ],
   "source": [
    "marginal_sigmas = LeastSquaresHypos.Marginal(2)\n",
    "thinkplot.hist(marginal_sigmas)"
   ]
  },
  {
   "cell_type": "markdown",
   "metadata": {},
   "source": [
    "Next, we want to sample random data from our hypotheses. We will do this by writing two functions, getY, and getRandomData. getRandomData calls getY to the random y data."
   ]
  },
  {
   "cell_type": "code",
   "execution_count": 20,
   "metadata": {
    "collapsed": true
   },
   "outputs": [],
   "source": [
    "def getY(hypo_samples, random_x):\n",
    "    \"\"\"\n",
    "    getY takes in random hypos and random x's and returns the coorisponding\n",
    "    random height\n",
    "    \n",
    "    Args:\n",
    "        hypo_samples\n",
    "    \"\"\"\n",
    "    random_y = np.zeros(len(random_x))\n",
    "    for i in range(len(random_x)):\n",
    "        intercept = hypo_samples[i][0]\n",
    "        slope = hypo_samples[i][1]\n",
    "        sigma = hypo_samples[i][2]\n",
    "        month = random_x[i]\n",
    "        random_y[i] = np.random.normal((slope * month + intercept), sigma, 1)\n",
    "    return random_y\n",
    "\n",
    "def getRandomData(start, end, n, LeastSquaresHypos):\n",
    "    \"\"\"\n",
    "    \n",
    "    Args:\n",
    "        start: (number): Starting x range of our data\n",
    "        end: (number): Ending x range of our data\n",
    "        n (int): Number of samples\n",
    "        LeastSquaresHypos (Suite): Contains the hypos we want to sample\n",
    "    \"\"\"\n",
    "    random_hypos = LeastSquaresHypos.Sample(n)\n",
    "    random_x = np.random.uniform(start, end, n)\n",
    "    random_y = getY(random_hypos, random_x)\n",
    "    return random_x, random_y"
   ]
  },
  {
   "cell_type": "code",
   "execution_count": 21,
   "metadata": {
    "collapsed": false
   },
   "outputs": [],
   "source": [
    "num_samples = 10000\n",
    "random_cigs, random_lungs = getRandomData(14, 43, num_samples, LeastSquaresHypos)\n"
   ]
  },
  {
   "cell_type": "markdown",
   "metadata": {},
   "source": [
    "Now, lets see what our random data looks like plotted underneath the original data and line of least squares."
   ]
  },
  {
   "cell_type": "code",
   "execution_count": 35,
   "metadata": {
    "collapsed": false
   },
   "outputs": [
    {
     "data": {
      "image/png": "[encoded data removed]",
      "text/plain": [
       "<matplotlib.figure.Figure at 0x7f06deb1e668>"
      ]
     },
     "metadata": {},
     "output_type": "display_data"
    }
   ],
   "source": [
    "plt.plot(random_cigs, random_lungs, 'o', label='Random Sampling')\n",
    "plt.plot(cigs, lungs, 'o', label='Original data', markersize=10)\n",
    "plt.plot(cigs, slope*cigs + intercept, 'r', label='Fitted line')\n",
    "# plt.legend()\n",
    "plt.show()"
   ]
  },
  {
   "cell_type": "markdown",
   "metadata": {},
   "source": [
    "From the plot above, our random data seems to make a distribution in the direction of the line. However, we are unable to see exactly what this distribution looks like as many of the random blue points overlap. We will visualize exactly what is going on with a desnity function."
   ]
  },
  {
   "cell_type": "markdown",
   "metadata": {},
   "source": [
    "To get the density (intensity), we will make a bucketData function. This takes in a range of x and y values and sees how many of the points fall into each bucket."
   ]
  },
  {
   "cell_type": "code",
   "execution_count": 36,
   "metadata": {
    "collapsed": true
   },
   "outputs": [],
   "source": [
    "def bucketData(num_buckets, x_range, y_range, x_data, y_data):\n",
    "    \"\"\"\n",
    "    Computes the buckets and density of items of data for graphing pixel space\n",
    "    \n",
    "    Args:\n",
    "        num_buckets (int): Is sqrt of number of buckets\n",
    "        x_range (tuple): Contains floats for x_start and x_end\n",
    "        y_range (tuple): Contains floats for y_start and y_end\n",
    "        x_data (sequence): Random x data. Could be something like ages\n",
    "        y_data (sequence): Random y data. Could be somethign like heights\n",
    "        \n",
    "    Returns:\n",
    "        buckets (dict): Dictionary containing density of points.\n",
    "    \"\"\"\n",
    "    x_start, x_end = x_range\n",
    "    y_start, y_end = y_range\n",
    "\n",
    "    # create horizontal and vertical linearly spaced ranges as buckets.\n",
    "    hori_range, hori_step = np.linspace(x_start, x_end, num_buckets, retstep=True)\n",
    "    vert_range, vert_step = np.linspace(y_start, y_end, num_buckets, retstep=True)\n",
    "\n",
    "    hori_step = hori_step / 2\n",
    "    vert_step = vert_step / 2\n",
    "\n",
    "    # store each bucket as a tuple in a the buckets dictionary.\n",
    "    buckets = dict()\n",
    "    keys = [(hori, vert) for hori in hori_range for vert in vert_range]\n",
    "\n",
    "    # set each bucket as empty\n",
    "    for key in keys:\n",
    "        buckets[key] = 0\n",
    "\n",
    "    # loop through the randomly sampled data\n",
    "    for x, y in zip(x_data, y_data):\n",
    "        # check each bucket and see if randomly sampled data \n",
    "        for key in buckets:\n",
    "            if x > key[0] - hori_step and x < key[0] + hori_step:\n",
    "                if y > key[1] - vert_step and y < key[1] + vert_step:\n",
    "                    buckets[key] += 1\n",
    "                    break # can only fit in a single bucket\n",
    "                    \n",
    "    return(buckets)"
   ]
  },
  {
   "cell_type": "code",
   "execution_count": 37,
   "metadata": {
    "collapsed": false
   },
   "outputs": [],
   "source": [
    "buckets = bucketData(num_buckets=40, x_range=(14, 43), y_range=(-10, 50), x_data=random_cigs, y_data=random_lungs)"
   ]
  },
  {
   "cell_type": "markdown",
   "metadata": {},
   "source": [
    "Now create function to unpack the buckets into usable x (cigs), y (lungs), z(densities/intencities) arrays."
   ]
  },
  {
   "cell_type": "code",
   "execution_count": 38,
   "metadata": {
    "collapsed": true
   },
   "outputs": [],
   "source": [
    "def unpackBuckets(buckets):\n",
    "    \"\"\"\n",
    "    Unpacks buckets into three new ordered lists such that zip(xNew, yNew, zNew) would\n",
    "    create x, y, z triples.\n",
    "    \"\"\"\n",
    "    xNew = []\n",
    "    yNew = []\n",
    "    zNew = []\n",
    "    for key in buckets:\n",
    "        xNew.append(key[0])\n",
    "        yNew.append(key[1])\n",
    "        zNew.append(buckets[key]) \n",
    "        \n",
    "    return xNew, yNew, zNew"
   ]
  },
  {
   "cell_type": "markdown",
   "metadata": {},
   "source": [
    "Use said function to unpack buckets."
   ]
  },
  {
   "cell_type": "code",
   "execution_count": 39,
   "metadata": {
    "collapsed": false
   },
   "outputs": [],
   "source": [
    "cigsNew, lungsNew, intensities = unpackBuckets(buckets)"
   ]
  },
  {
   "cell_type": "markdown",
   "metadata": {},
   "source": [
    "Now, to make our lives easier, we will plot the density plot in Mathematica. But first, we need to export our data as CSV's."
   ]
  },
  {
   "cell_type": "code",
   "execution_count": 48,
   "metadata": {
    "collapsed": true
   },
   "outputs": [],
   "source": [
    "def append_to_file(path, data):\n",
    "    \"\"\"\n",
    "    append_to_file appends a line of data to specified file.  Then adds new line\n",
    "    \n",
    "    Args:\n",
    "        path (string): the file path\n",
    "    \n",
    "    Return:\n",
    "        VOID\n",
    "    \"\"\"\n",
    "    with open(path, 'a') as file:\n",
    "        file.write(data + '\\n')\n",
    "        \n",
    "def delete_file_contents(path):\n",
    "    \"\"\"\n",
    "    delete_file_contents deletes the contents of a file\n",
    "    \n",
    "    Args:\n",
    "        path: (string): the file path\n",
    "        \n",
    "    Return:\n",
    "        VOID\n",
    "    \"\"\"\n",
    "    with open(path, 'w'):\n",
    "        pass\n",
    "\n",
    "def threeSequenceCSV(x, y, z):\n",
    "    \"\"\"\n",
    "    Writes the x, y, z arrays to a CSV\n",
    "    \n",
    "    Args:\n",
    "        x (sequence): x data\n",
    "        y (sequence): y data\n",
    "        z (sequence): z data    \n",
    "    \"\"\"\n",
    "    file_name = 'cigsLungsIntensity.csv'\n",
    "    delete_file_contents(file_name)\n",
    "\n",
    "    for xi, yi, zi in zip(x, y, z):\n",
    "        append_to_file(file_name, \"{}, {}, {}\".format(xi, yi, zi))\n",
    "        \n",
    "def twoSequenceCSV(x, y):\n",
    "    \"\"\"\n",
    "    Writes the x, y arrays to a CSV\n",
    "    \n",
    "    Args:\n",
    "        x (sequence): x data\n",
    "        y (sequence): y data\n",
    "    \"\"\"\n",
    "    file_name = 'cigsLungs.csv'\n",
    "    delete_file_contents(file_name)\n",
    "    \n",
    "    for xi, yi in zip(x, y):\n",
    "        append_to_file(file_name, \"{}, {}\".format(xi, yi))\n",
    "        \n",
    "def fittedLineCSV(x, slope, intercept):\n",
    "    \"\"\"\n",
    "    Writes line data to a CSV\n",
    "    \n",
    "    Args:\n",
    "        x (sequence): x data\n",
    "        slope (float): slope of line\n",
    "        intercept (float): intercept of line\n",
    "    \"\"\"\n",
    "    file_name = 'cigsLungsFitted.csv'\n",
    "    delete_file_contents(file_name)\n",
    "    for xi in x:\n",
    "        append_to_file(file_name, \"{}, {}\".format(xi, slope*xi + intercept))\n",
    "        \n",
    "def makeCSVData(random_x, random_y, intensities, original_x, original_y, slope, intercept):\n",
    "    \"\"\"\n",
    "    Calls the 3 csv making functions with appropriate parameters.\n",
    "    \"\"\"\n",
    "    threeSequenceCSV(random_x, random_y, intensities)\n",
    "    twoSequenceCSV(original_x, original_y)\n",
    "    fittedLineCSV(original_x, slope, intercept)"
   ]
  },
  {
   "cell_type": "code",
   "execution_count": 49,
   "metadata": {
    "collapsed": false
   },
   "outputs": [],
   "source": [
    "makeCSVData(cigsNew, lungsNew, intensities, cigs, lungs, slope, intercept)"
   ]
  },
  {
   "cell_type": "markdown",
   "metadata": {},
   "source": [
    "Below we have our density plot underneath our original data / fitted line. Based on this plot, we can reason that our previous calculations seem reasonable.\n",
    "\n",
    "<img src=\"cigsLungsAllPlots.png\" alt=\"Density Plot with orignal data/fit\" height=\"400\" width=\"400\">"
   ]
  },
  {
   "cell_type": "markdown",
   "metadata": {},
   "source": [
    "Now, we want to answer our original question. If California were to lower its number of cigarette sold per capita from 28.60 to 20, how many people would die from lung cancer per 1,000 people? Now, I will do this by finding the most likeli distribution for a state at CIG = 20 and subtract the known California value (CIG = 28.60, LUNG = 22.07) from that distribution."
   ]
  },
  {
   "cell_type": "markdown",
   "metadata": {},
   "source": [
    "First make a function that makes Pmf's for a given CIG value."
   ]
  },
  {
   "cell_type": "code",
   "execution_count": 54,
   "metadata": {
    "collapsed": true
   },
   "outputs": [],
   "source": [
    "def MakeLungsPmf(suite, x):\n",
    "    \"\"\"\n",
    "    MakeLungsPmf takes in a suite (intercept, slope, sigma) hypos and an x value.\n",
    "    It returns a mixture Pmf at that particular x value.\n",
    "    \n",
    "    Args:\n",
    "        suite (Suite): Suite object of (intercept, slope, sigma) hypos\n",
    "        x (number): The value used to calculate the center of the new distribution\n",
    "    \"\"\"\n",
    "    metapmf = Pmf()\n",
    "    \n",
    "    counter=0\n",
    "\n",
    "    for (intercept, slope, sigma), prob in suite.Items():\n",
    "        mu = slope * x + intercept\n",
    "        pmf = MakeNormalPmf(mu, sigma, num_sigmas=4, n=301)\n",
    "        metapmf.Set(pmf, prob)\n",
    "        counter+=1\n",
    "        if counter % 100 == 0:\n",
    "            print(counter)\n",
    "\n",
    "    mix = MakeMixture(metapmf)\n",
    "    return mix"
   ]
  },
  {
   "cell_type": "markdown",
   "metadata": {},
   "source": [
    "Use our function to make a LUNGS distribution for a state at CIG = 20."
   ]
  },
  {
   "cell_type": "code",
   "execution_count": 55,
   "metadata": {
    "collapsed": false
   },
   "outputs": [
    {
     "name": "stdout",
     "output_type": "stream",
     "text": [
      "100\n"
     ]
    }
   ],
   "source": [
    "cigs20 = MakeLungsPmf(LeastSquaresHypos, 20)"
   ]
  },
  {
   "cell_type": "markdown",
   "metadata": {},
   "source": [
    "Now make our California lives saved prediction by subtracting 22.07 from the previous distribution"
   ]
  },
  {
   "cell_type": "code",
   "execution_count": 61,
   "metadata": {
    "collapsed": false
   },
   "outputs": [],
   "source": [
    "cali20_lives_predict = cigs20.AddConstant(-22.07)"
   ]
  },
  {
   "cell_type": "code",
   "execution_count": 64,
   "metadata": {
    "collapsed": false
   },
   "outputs": [
    {
     "data": {
      "text/plain": [
       "17.062101197213074"
      ]
     },
     "execution_count": 64,
     "metadata": {},
     "output_type": "execute_result"
    },
    {
     "data": {
      "image/png": "[encoded data removed]",
      "text/plain": [
       "<matplotlib.figure.Figure at 0x7f06dec45d30>"
      ]
     },
     "metadata": {},
     "output_type": "display_data"
    }
   ],
   "source": [
    "thinkplot.Pmf(cali20_lives_predict)\n",
    "22.07 + cali20_lives_predict.Mean()"
   ]
  },
  {
   "cell_type": "markdown",
   "metadata": {},
   "source": [
    "Based on the above distribution, we that California will most likely reduce its death by lung cancer per 1,000 people from 22.07 to 17.06. We can also use this distribution to see what values are credible."
   ]
  },
  {
   "cell_type": "code",
   "execution_count": 66,
   "metadata": {
    "collapsed": false
   },
   "outputs": [
    {
     "data": {
      "text/plain": [
       "(-8.3633333333333315, -1.7366666666666681)"
      ]
     },
     "execution_count": 66,
     "metadata": {},
     "output_type": "execute_result"
    }
   ],
   "source": [
    "cali20_lives_predict.CredibleInterval(50)"
   ]
  },
  {
   "cell_type": "markdown",
   "metadata": {},
   "source": [
    "Now we can see that there is a 50% chance that Calfornia will reduce it's death by lung cancer per 1,000 people by 1.73"
   ]
  }
 ],
 "metadata": {
  "kernelspec": {
   "display_name": "Python 3",
   "language": "python",
   "name": "python3"
  },
  "language_info": {
   "codemirror_mode": {
    "name": "ipython",
    "version": 3
   },
   "file_extension": ".py",
   "mimetype": "text/x-python",
   "name": "python",
   "nbconvert_exporter": "python",
   "pygments_lexer": "ipython3",
   "version": "3.5.2"
  }
 },
 "nbformat": 4,
 "nbformat_minor": 1
}
