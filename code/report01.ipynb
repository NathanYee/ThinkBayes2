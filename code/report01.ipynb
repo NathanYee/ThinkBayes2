{
 "cells": [
  {
   "cell_type": "markdown",
   "metadata": {},
   "source": [
    "# <center>Twin brothers and bayes theorem</center>\n",
    "\n",
    "Suppose we are asked the question: <b>Elvis Presley had a twin brother who died at birth.  What is the probability that Elvis was an identical twin?</b>\n",
    "\n",
    "In order to make our problem easier, we will clarify a few facts about identical twins. Identical twins are known as monozygotic twins, meaning that they both devolop from a single zygote. As a result, monozygotic twins are the same gender, either male-male or female-female. So, we rephrase our question: <b>What percentage of male-male twins are monozygotic.</b>\n",
    "\n",
    "In addition, here is an important fact: .08% of twins are monozygotic.\n",
    "\n",
    "## <center>Without Bayes' theorem</center>\n",
    "\n",
    "We use a tree to visualize the problem.\n",
    "\n",
    "<img src=\"treeReport1.jpg\" alt=\"Probability Tree\" height=\"400\" width=\"400\">\n",
    "\n",
    "Assuming we have 100 twins, lets calculate the number of male-male dizygotic, male-male monozygotic, and total number of male-male twins. "
   ]
  },
  {
   "cell_type": "code",
   "execution_count": 1,
   "metadata": {
    "collapsed": false
   },
   "outputs": [
    {
     "name": "stdout",
     "output_type": "stream",
     "text": [
      "Number of male-male dizygotic twins: 23.0\n",
      "Number of male-male monozygotic twins: 4.0\n",
      "Total number of male-male twins: 27.0\n"
     ]
    }
   ],
   "source": [
    "# calculate number of male-male dizygotic twins using the percentage of dizygotic and percentage of male-male\n",
    "DiMM = 100 * .92 * .25\n",
    "\n",
    "# calculate number of male-male monozygotic twins using the percentage of monozygotic and percentage of male-male\n",
    "MoMM = 100 * .08 * .5\n",
    "\n",
    "# calculate total number of male-male twins\n",
    "TotalMM = DiMM + MoMM\n",
    "\n",
    "print(\"Number of male-male dizygotic twins: {}\".format(DiMM))\n",
    "print(\"Number of male-male monozygotic twins: {}\".format(MoMM))\n",
    "print(\"Total number of male-male twins: {}\".format(TotalMM))"
   ]
  },
  {
   "cell_type": "code",
   "execution_count": 2,
   "metadata": {
    "collapsed": false
   },
   "outputs": [
    {
     "name": "stdout",
     "output_type": "stream",
     "text": [
      "Percentage of male-male monozygotic twins: 14.8%\n"
     ]
    }
   ],
   "source": [
    "# next we can calculate the fraction of male-male twins that are monozygotic\n",
    "fractionMoMM = MoMM / TotalMM\n",
    "percentMoMM = fractionMoMM * 100\n",
    "print(\"Percentage of male-male monozygotic twins: {0:.1f}%\".format(percentMoMM))"
   ]
  },
  {
   "cell_type": "markdown",
   "metadata": {},
   "source": [
    "So, we can conclude that Elvis had a 14.8% chance to identical twins with his brother."
   ]
  },
  {
   "cell_type": "markdown",
   "metadata": {},
   "source": [
    "## <center>With Bayes' theorem</center>\n",
    "However, rather than using a huge tree, we can use Bayes' theorem to make a much more eligant solution. First, assuming we are only dealing with twins, we find must find P(male-male|monozygotic), P(male-male), and P(monozygotic).  Then we can calculate P(monozygotic|male-male)."
   ]
  },
  {
   "cell_type": "code",
   "execution_count": 6,
   "metadata": {
    "collapsed": true
   },
   "outputs": [],
   "source": [
    "from thinkbayes2 import Pmf\n",
    "\n",
    "% matplotlib inline"
   ]
  },
  {
   "cell_type": "code",
   "execution_count": 7,
   "metadata": {
    "collapsed": false
   },
   "outputs": [
    {
     "name": "stdout",
     "output_type": "stream",
     "text": [
      "0.27\n",
      "0.5\n",
      "0.08\n"
     ]
    }
   ],
   "source": [
    "twins = Pmf()\n",
    "\n",
    "# first calculate the total percentage of male-male twins. We can do this by adding the percentage of male-male\n",
    "# monozygotic and the percentage of male-male dizygotic\n",
    "twins.Set('male-male', .08*.50 + .92*.25)\n",
    "twins.Set('male-male|monozygotic', .50)\n",
    "twins.Set('monozygotic', .08)\n",
    "\n",
    "print(twins['male-male'])\n",
    "print(twins['male-male|monozygotic'])\n",
    "print(twins['monozygotic'])"
   ]
  },
  {
   "cell_type": "code",
   "execution_count": 8,
   "metadata": {
    "collapsed": false
   },
   "outputs": [
    {
     "name": "stdout",
     "output_type": "stream",
     "text": [
      "P(monozygotic|male-male): 0.148\n"
     ]
    }
   ],
   "source": [
    "# now using bayes theorem\n",
    "temp = twins['male-male|monozygotic'] * twins['monozygotic'] / twins['male-male']\n",
    "print(\"P(monozygotic|male-male): {0:.3f}\".format(temp))"
   ]
  },
  {
   "cell_type": "markdown",
   "metadata": {
    "collapsed": false
   },
   "source": [
    "# <center>The M&M problem"
   ]
  },
  {
   "cell_type": "markdown",
   "metadata": {
    "collapsed": true
   },
   "source": [
    "First encode color mixes as dictionaries"
   ]
  },
  {
   "cell_type": "code",
   "execution_count": null,
   "metadata": {
    "collapsed": true
   },
   "outputs": [],
   "source": [
    "mix94 = dict(brown=30,\n",
    "             yellow = 20,\n",
    "             red=20;)"
   ]
  }
 ],
 "metadata": {
  "kernelspec": {
   "display_name": "Python 3",
   "language": "python",
   "name": "python3"
  },
  "language_info": {
   "codemirror_mode": {
    "name": "ipython",
    "version": 3
   },
   "file_extension": ".py",
   "mimetype": "text/x-python",
   "name": "python",
   "nbconvert_exporter": "python",
   "pygments_lexer": "ipython3",
   "version": "3.5.2"
  }
 },
 "nbformat": 4,
 "nbformat_minor": 1
}
