{
 "cells": [
  {
   "cell_type": "markdown",
   "metadata": {},
   "source": [
    "License: Attribution 4.0 International (CC BY 4.0) "
   ]
  },
  {
   "cell_type": "code",
   "execution_count": 1,
   "metadata": {
    "collapsed": true
   },
   "outputs": [],
   "source": [
    "from thinkbayes2 import Pmf, Suite\n",
    "import thinkplot\n",
    "import math\n",
    "\n",
    "% matplotlib inline"
   ]
  },
  {
   "cell_type": "markdown",
   "metadata": {},
   "source": [
    "# Twin brothers and bayes theorem\n",
    "\n",
    "Suppose we are asked the question: <b>Elvis Presley had a twin brother who died at birth.  What is the probability that Elvis was an identical twin?</b>\n",
    "\n",
    "In order to make our problem easier, we will clarify a few facts about identical twins. Identical twins are known as monozygotic twins, meaning that they both devolop from a single zygote. As a result, monozygotic twins are the same gender, either male-male or female-female. So, we rephrase our question: <b>What percentage of male-male twins are monozygotic.</b>\n",
    "\n",
    "In addition, here is an important fact: .08% of twins are monozygotic.\n",
    "\n",
    "## Without Bayes' theorem (counting)\n",
    "\n",
    "We use a tree to visualize the problem.\n",
    "\n",
    "<img src=\"treeReport1.jpg\" alt=\"Probability Tree\" height=\"400\" width=\"400\">\n",
    "\n",
    "Assuming we have 100 twins, lets calculate the number of male-male dizygotic, male-male monozygotic, and total number of male-male twins. "
   ]
  },
  {
   "cell_type": "code",
   "execution_count": 2,
   "metadata": {
    "collapsed": false
   },
   "outputs": [
    {
     "name": "stdout",
     "output_type": "stream",
     "text": [
      "Number of male-male dizygotic twins: 23.0\n",
      "Number of male-male monozygotic twins: 4.0\n",
      "Total number of male-male twins: 27.0\n"
     ]
    }
   ],
   "source": [
    "# calculate number of male-male dizygotic twins using the percentage of dizygotic and percentage of male-male\n",
    "DiMM = 100 * .92 * .25\n",
    "\n",
    "# calculate number of male-male monozygotic twins using the percentage of monozygotic and percentage of male-male\n",
    "MoMM = 100 * .08 * .5\n",
    "\n",
    "# calculate total number of male-male twins\n",
    "TotalMM = DiMM + MoMM\n",
    "\n",
    "print(\"Number of male-male dizygotic twins: {}\".format(DiMM))\n",
    "print(\"Number of male-male monozygotic twins: {}\".format(MoMM))\n",
    "print(\"Total number of male-male twins: {}\".format(TotalMM))"
   ]
  },
  {
   "cell_type": "code",
   "execution_count": 3,
   "metadata": {
    "collapsed": false
   },
   "outputs": [
    {
     "name": "stdout",
     "output_type": "stream",
     "text": [
      "Percentage of male-male monozygotic twins: 14.8%\n"
     ]
    }
   ],
   "source": [
    "# next we can calculate the fraction of male-male twins that are monozygotic\n",
    "fractionMoMM = MoMM / TotalMM\n",
    "percentMoMM = fractionMoMM * 100\n",
    "print(\"Percentage of male-male monozygotic twins: {0:.1f}%\".format(percentMoMM))"
   ]
  },
  {
   "cell_type": "markdown",
   "metadata": {},
   "source": [
    "So, we can conclude that Elvis had a 14.8% chance to identical twins with his brother."
   ]
  },
  {
   "cell_type": "markdown",
   "metadata": {},
   "source": [
    "## With Bayes' theorem (math)\n",
    "However, rather than using a huge tree, we can use Bayes' theorem to make a much more eligant solution. First, assuming we are only dealing with twins, we find must find P(male-male|monozygotic), P(male-male), and P(monozygotic).  Then we can calculate P(monozygotic|male-male)."
   ]
  },
  {
   "cell_type": "code",
   "execution_count": 4,
   "metadata": {
    "collapsed": false
   },
   "outputs": [
    {
     "name": "stdout",
     "output_type": "stream",
     "text": [
      "0.27\n",
      "0.5\n",
      "0.08\n"
     ]
    }
   ],
   "source": [
    "twins = dict()\n",
    "\n",
    "# first calculate the total percentage of male-male twins. We can do this by adding the percentage of male-male\n",
    "# monozygotic and the percentage of male-male dizygotic\n",
    "twins['male-male'] = (.08*.50 + .92*.25)\n",
    "twins['male-male|monozygotic'] = (.50)\n",
    "twins['monozygotic'] = (.08)\n",
    "\n",
    "print(twins['male-male'])\n",
    "print(twins['male-male|monozygotic'])\n",
    "print(twins['monozygotic'])"
   ]
  },
  {
   "cell_type": "code",
   "execution_count": 5,
   "metadata": {
    "collapsed": false
   },
   "outputs": [
    {
     "name": "stdout",
     "output_type": "stream",
     "text": [
      "P(monozygotic|male-male): 0.148\n"
     ]
    }
   ],
   "source": [
    "# now using bayes theorem\n",
    "temp = twins['male-male|monozygotic'] * twins['monozygotic'] / twins['male-male']\n",
    "print(\"P(monozygotic|male-male): {0:.3f}\".format(temp))"
   ]
  },
  {
   "cell_type": "markdown",
   "metadata": {
    "collapsed": false
   },
   "source": [
    "# The Dice Problem chapter 3"
   ]
  },
  {
   "cell_type": "markdown",
   "metadata": {
    "collapsed": true
   },
   "source": [
    "We are given dice 4, 6, 8, 12, and 20 sides.  If we roll a a die many times at random, what is the probability that we roll each die."
   ]
  },
  {
   "cell_type": "markdown",
   "metadata": {},
   "source": [
    "First we must define the Likelihood function for the dice.  In this case, if we roll a number greater than that dice (roll 5 for 4 sided dice), the probability of that being the chosen dice goes to zero.  Else, the probability is multiplied by 1 over the number of sides."
   ]
  },
  {
   "cell_type": "code",
   "execution_count": 6,
   "metadata": {
    "collapsed": false
   },
   "outputs": [],
   "source": [
    "class Dice(Suite):\n",
    "    def Likelihood(self, data, hypo):\n",
    "        if hypo < data:\n",
    "            return 0\n",
    "        else:\n",
    "            return 1 / hypo"
   ]
  },
  {
   "cell_type": "markdown",
   "metadata": {},
   "source": [
    "Next create a dice object with dice of 4, 6, 8, 12 and 20 sides"
   ]
  },
  {
   "cell_type": "code",
   "execution_count": 7,
   "metadata": {
    "collapsed": false
   },
   "outputs": [],
   "source": [
    "suite = Dice([4, 6, 8, 12, 20])"
   ]
  },
  {
   "cell_type": "markdown",
   "metadata": {},
   "source": [
    "Roll a 6 and see the probabilities of being each dice"
   ]
  },
  {
   "cell_type": "code",
   "execution_count": 8,
   "metadata": {
    "collapsed": false
   },
   "outputs": [
    {
     "name": "stdout",
     "output_type": "stream",
     "text": [
      "4 0.0\n",
      "6 0.3921568627450979\n",
      "8 0.2941176470588235\n",
      "12 0.19607843137254896\n",
      "20 0.11764705882352941\n"
     ]
    }
   ],
   "source": [
    "suite.Update(6)\n",
    "suite.Print()"
   ]
  },
  {
   "cell_type": "markdown",
   "metadata": {},
   "source": [
    "Now roll a series of numbers"
   ]
  },
  {
   "cell_type": "code",
   "execution_count": 9,
   "metadata": {
    "collapsed": false
   },
   "outputs": [
    {
     "name": "stdout",
     "output_type": "stream",
     "text": [
      "4 0.0\n",
      "6 0.0\n",
      "8 0.9432484536722127\n",
      "12 0.055206128061290875\n",
      "20 0.001545418266496554\n"
     ]
    }
   ],
   "source": [
    "for roll in [6, 8, 7, 7, 5, 4]:\n",
    "    suite.Update(roll)\n",
    "\n",
    "suite.Print()"
   ]
  },
  {
   "cell_type": "markdown",
   "metadata": {},
   "source": [
    "For these roles, we see that the 8 sided dice is most probable.  It is still possible for the 20 sided dice, but only with a .1% chance."
   ]
  },
  {
   "cell_type": "markdown",
   "metadata": {},
   "source": [
    "# The Train Problem chapter 3"
   ]
  },
  {
   "cell_type": "markdown",
   "metadata": {},
   "source": [
    "Railroads number trains from 1 to N.  One day you see a train numbered 60.  How many trains does the railroad have?"
   ]
  },
  {
   "cell_type": "markdown",
   "metadata": {},
   "source": [
    "First define the Train suite.  The likelihood is the same as the above dice problem.  We can think of it like this: each number correspond to a number of trains.  If we see train N, then all hypothesis less than N are 0.  Else, they are 1 / N."
   ]
  },
  {
   "cell_type": "code",
   "execution_count": 10,
   "metadata": {
    "collapsed": true
   },
   "outputs": [],
   "source": [
    "class Train(Suite):\n",
    "    # hypo is the number of trains\n",
    "    # data is an observed serial number\n",
    "    def Likelihood(self, data, hypo):\n",
    "        if data > hypo:\n",
    "            return 0\n",
    "        else:\n",
    "            return 1 / hypo"
   ]
  },
  {
   "cell_type": "markdown",
   "metadata": {},
   "source": [
    "Create train object and update with train number 60"
   ]
  },
  {
   "cell_type": "code",
   "execution_count": 11,
   "metadata": {
    "collapsed": false
   },
   "outputs": [
    {
     "data": {
      "text/plain": [
       "0.0028222671142652746"
      ]
     },
     "execution_count": 11,
     "metadata": {},
     "output_type": "execute_result"
    }
   ],
   "source": [
    "hypos = range(1, 1001)\n",
    "train = Train(hypos)\n",
    "train.Update(60)"
   ]
  },
  {
   "cell_type": "markdown",
   "metadata": {},
   "source": [
    "Plot current probabilities of numbers of trains"
   ]
  },
  {
   "cell_type": "code",
   "execution_count": 12,
   "metadata": {
    "collapsed": false
   },
   "outputs": [
    {
     "data": {
      "image/png": "[encoded data removed]",
      "text/plain": [
       "<matplotlib.figure.Figure at 0x7ffb26141ef0>"
      ]
     },
     "metadata": {},
     "output_type": "display_data"
    }
   ],
   "source": [
    "thinkplot.Pdf(train)"
   ]
  },
  {
   "cell_type": "markdown",
   "metadata": {},
   "source": [
    "Because 60 is not actually a good guess, we will compute the mean of the posterior distribution"
   ]
  },
  {
   "cell_type": "code",
   "execution_count": 13,
   "metadata": {
    "collapsed": false
   },
   "outputs": [
    {
     "name": "stdout",
     "output_type": "stream",
     "text": [
      "333.41989326371095\n"
     ]
    }
   ],
   "source": [
    "def Mean(suite):\n",
    "    total = 0\n",
    "    for hypo, prob in suite.Items():\n",
    "        total += hypo * prob\n",
    "    return total\n",
    "\n",
    "print(Mean(train))"
   ]
  },
  {
   "cell_type": "markdown",
   "metadata": {},
   "source": [
    "The mean of the posterior distribution is the value that minimizes error. In simpler terms, we get the smallest number (error) when we subtract the actual number of trains from the mean of posterior distribution.\n",
    "\n",
    "Next, update the train with two more sightings, 50 and 90"
   ]
  },
  {
   "cell_type": "code",
   "execution_count": 14,
   "metadata": {
    "collapsed": false
   },
   "outputs": [
    {
     "name": "stdout",
     "output_type": "stream",
     "text": [
      "164.3055864227336\n"
     ]
    },
    {
     "data": {
      "image/png": "[encoded data removed]",
      "text/plain": [
       "<matplotlib.figure.Figure at 0x7ffaf8eff080>"
      ]
     },
     "metadata": {},
     "output_type": "display_data"
    }
   ],
   "source": [
    "for data in [50, 90]:\n",
    "    train.Update(data)\n",
    "print(Mean(train))\n",
    "thinkplot.Pdf(train)"
   ]
  },
  {
   "cell_type": "markdown",
   "metadata": {},
   "source": [
    "After the two updates, the error minimizing value has gone down to 164.\n",
    "\n",
    "At the start of the problem, we assumed that there was an equal chance to any number of trains.  However, most rail companies don't have thousands of trains.  To better represent this fact, we can give each hypotheses greater for smaller numbers of trains."
   ]
  },
  {
   "cell_type": "code",
   "execution_count": 15,
   "metadata": {
    "collapsed": false
   },
   "outputs": [],
   "source": [
    "class Train2(Dice):\n",
    "    def __init__(self, hypos, alpha=1.0):\n",
    "        Pmf.__init__(self)\n",
    "        for hypo in hypos:\n",
    "            self.Set(hypo, hypo**(-alpha))\n",
    "        self.Normalize()"
   ]
  },
  {
   "cell_type": "code",
   "execution_count": 16,
   "metadata": {
    "collapsed": true
   },
   "outputs": [],
   "source": [
    "hypos2 = range(1, 1001)\n",
    "train2 = Train2(hypos2)"
   ]
  },
  {
   "cell_type": "code",
   "execution_count": 17,
   "metadata": {
    "collapsed": false
   },
   "outputs": [
    {
     "data": {
      "image/png": "[encoded data removed]",
      "text/plain": [
       "<matplotlib.figure.Figure at 0x7ffaf8f0f080>"
      ]
     },
     "metadata": {},
     "output_type": "display_data"
    }
   ],
   "source": [
    "thinkplot.Pmf(train2)"
   ]
  },
  {
   "cell_type": "code",
   "execution_count": 18,
   "metadata": {
    "collapsed": false
   },
   "outputs": [
    {
     "data": {
      "image/png": "[encoded data removed]",
      "text/plain": [
       "<matplotlib.figure.Figure at 0x7ffaf8dec128>"
      ]
     },
     "metadata": {},
     "output_type": "display_data"
    }
   ],
   "source": [
    "for data in [50, 60, 90]:\n",
    "    train2.Update(data)\n",
    "    \n",
    "thinkplot.Pmf(train2)"
   ]
  },
  {
   "cell_type": "markdown",
   "metadata": {},
   "source": [
    "We initally thought that givin lower number of trains higher probabilities would give us a more accurate result.  However, over just a few data points, we get a nearly identical graph to the one with linearly represented hypotheses."
   ]
  },
  {
   "cell_type": "markdown",
   "metadata": {},
   "source": [
    "# Original Bayes Problem - Two Watches"
   ]
  },
  {
   "cell_type": "markdown",
   "metadata": {},
   "source": [
    "Suppose you are a student who goes to various classes. Every morning you wake up and put on one of two watches. The first watch is on time. The second watch is 5 minutes slow. If you arrive to class 3 minutes late, what is the probability you wore the slow watch. Assume that arrival times follow the Gaussian function where b is an offset in minutes:\n",
    "$$f(x) = e^{-\\frac{(x-b)^2}{32}}$$\n",
    "\n",
    "First we want to make sure that our gaussian function is a reasonable approximation of arrival time. Below is a plot of the function from 15 minutes late to 15 minutes early. With some quick looks at the graph, you can see that you arrive to class +- 2 minutes around 45% of the time which is reasonable most students.\n",
    "\n",
    "<img src=\"gaussianFunctions.svg\" alt=\"Gaussian Function\" height=\"600\" width=\"600\">\n",
    "\n",
    "Next we define our Watch Suite.  Our hypotheses will be the watches described above:\n",
    "'watch 1' is that you used the on time watch\n",
    "'watch 2' is that you used the 5 minute slow watch"
   ]
  },
  {
   "cell_type": "code",
   "execution_count": 19,
   "metadata": {
    "collapsed": false
   },
   "outputs": [],
   "source": [
    "class Watch(Suite):\n",
    "    \"\"\"\n",
    "    Maps watch hypotheses to probabilities\n",
    "    \"\"\"\n",
    "    \n",
    "    def f(x, b):\n",
    "        \"\"\"\n",
    "        f is a function that returns a Gaussian Function.\n",
    "        \n",
    "        Args:\n",
    "            x (int): the primary variable\n",
    "            b (int): a constant offset used to make fast or slow clocks\n",
    "        \"\"\"\n",
    "        return math.exp((-1 * (x-b)**2) / (32))\n",
    "    \n",
    "    watch1_probs = dict()\n",
    "    for i in range(-15,15):\n",
    "        watch1_probs[i] = f(i, 0)\n",
    "\n",
    "    watch2_probs = dict()\n",
    "    for i in range(-15,15):\n",
    "        watch2_probs[i] = f(i, -5)\n",
    "        \n",
    "    hypotheses = {\n",
    "        'watch 1':watch1_probs,\n",
    "        'watch 2':watch2_probs\n",
    "        }\n",
    "    \n",
    "    def __init__(self, hypos):\n",
    "        Pmf.__init__(self)\n",
    "        for hypo in hypos:\n",
    "            self.Set(hypo, 1)\n",
    "        self.Normalize()\n",
    "        \n",
    "    def Likelihood(self, data, hypo):\n",
    "        time = self.hypotheses[hypo]\n",
    "        like = time[data]\n",
    "        return like"
   ]
  },
  {
   "cell_type": "markdown",
   "metadata": {},
   "source": [
    "Next create the two hypotheses. As expected, before we see any class arival data, both watches have equal chances of being worn."
   ]
  },
  {
   "cell_type": "code",
   "execution_count": 20,
   "metadata": {
    "collapsed": false
   },
   "outputs": [
    {
     "name": "stdout",
     "output_type": "stream",
     "text": [
      "watch 1 0.5\n",
      "watch 2 0.5\n"
     ]
    }
   ],
   "source": [
    "watches = Watch(['watch 1', 'watch 2'])\n",
    "watches.Print()"
   ]
  },
  {
   "cell_type": "markdown",
   "metadata": {},
   "source": [
    "As a sanity check, suppose we arrive to class exactly on time, and the next 5 minutes late"
   ]
  },
  {
   "cell_type": "code",
   "execution_count": 21,
   "metadata": {
    "collapsed": false
   },
   "outputs": [
    {
     "name": "stdout",
     "output_type": "stream",
     "text": [
      "watch 1 0.5\n",
      "watch 2 0.5\n"
     ]
    }
   ],
   "source": [
    "for arrival_time in [0,-5]:\n",
    "    watches.Update(arrival_time)\n",
    "watches.Print()"
   ]
  },
  {
   "cell_type": "markdown",
   "metadata": {},
   "source": [
    "Our model says that both hypotheses have still have the same probabilility, this makes sense because one hypotheses is centered at 0 and the other at 5."
   ]
  },
  {
   "cell_type": "markdown",
   "metadata": {},
   "source": [
    "Now, lets see what happens if we visit 5 more classes"
   ]
  },
  {
   "cell_type": "code",
   "execution_count": 22,
   "metadata": {
    "collapsed": false
   },
   "outputs": [
    {
     "name": "stdout",
     "output_type": "stream",
     "text": [
      "watch 1 0.538983220687684\n",
      "watch 2 0.461016779312316\n"
     ]
    }
   ],
   "source": [
    "for arrival_time in [0,-2,-2,-3,-5]:\n",
    "    watches.Update(arrival_time)\n",
    "    \n",
    "watches.Print()"
   ]
  },
  {
   "cell_type": "markdown",
   "metadata": {},
   "source": [
    "After this series of updates, we have a slightly increased chance of using the on time watch.  This makes sense because on average, the times have been slightly closer to 0 than -5.  \n",
    "\n",
    "Even though our model performs reasonable close data, it falls apart if you arrive either really late or early.  Suppose you arrive to class 11 minutes late"
   ]
  },
  {
   "cell_type": "code",
   "execution_count": 23,
   "metadata": {
    "collapsed": false
   },
   "outputs": [
    {
     "name": "stdout",
     "output_type": "stream",
     "text": [
      "watch 1 0.07585818002124352\n",
      "watch 2 0.9241418199787564\n"
     ]
    }
   ],
   "source": [
    "watches.Update(-11)\n",
    "watches.Print()"
   ]
  },
  {
   "cell_type": "markdown",
   "metadata": {
    "collapsed": false
   },
   "source": [
    "Now, the slow watch, is significantly more probable than the on time watch. If we didn't want extreme values to have as big of an impact in updates, we would simply modify the denominator of our Gaussian function"
   ]
  }
 ],
 "metadata": {
  "kernelspec": {
   "display_name": "Python 3",
   "language": "python",
   "name": "python3"
  },
  "language_info": {
   "codemirror_mode": {
    "name": "ipython",
    "version": 3
   },
   "file_extension": ".py",
   "mimetype": "text/x-python",
   "name": "python",
   "nbconvert_exporter": "python",
   "pygments_lexer": "ipython3",
   "version": "3.5.2"
  }
 },
 "nbformat": 4,
 "nbformat_minor": 1
}
