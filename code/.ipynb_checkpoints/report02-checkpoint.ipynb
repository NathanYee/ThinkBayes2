{
 "cells": [
  {
   "cell_type": "markdown",
   "metadata": {},
   "source": [
    "# Report02 - Nathan Yee\n",
    "\n",
    "This notebook contains report02 for computational baysian statistics fall 2016\n",
    "\n",
    "MIT License: https://opensource.org/licenses/MIT"
   ]
  },
  {
   "cell_type": "code",
   "execution_count": 2,
   "metadata": {
    "collapsed": false
   },
   "outputs": [],
   "source": [
    "import numpy as np\n",
    "\n",
    "import thinkbayes2\n",
    "from thinkbayes2 import Pmf, Cdf, Suite\n",
    "import thinkplot\n",
    "\n",
    "% matplotlib inline"
   ]
  },
  {
   "cell_type": "markdown",
   "metadata": {},
   "source": [
    "## Original type 1 - multi colored pens\n",
    "\n",
    "Suppose you have a black, violet, red, and green pen. Each pen is identifiable by its colored cap or colored ink For example, the red pen contains a red cap and red ink. The colored cap is visible, but the ink's color can only be seen on paper. Suppose you randomly mix up the pen's caps such that every cap has an equal probability of being on any colored ink. Later that day, you use the black capped pen and the ink is not black.  What is the probability that the red capped pen has red ink.\n",
    "\n",
    "To make naming of the long hypotheses easier, I will list a simple naming conention below.  \n",
    "B: Black  \n",
    "V: Violet  \n",
    "R: Red  \n",
    "G: Green  \n",
    "c: cap  \n",
    "i: ink  \n",
    "n: not  \n",
    "\n",
    "So BcnBi stands for: \"Black cap not Black ink\""
   ]
  },
  {
   "cell_type": "markdown",
   "metadata": {},
   "source": [
    "### Solution 1 - Two Hypotheses\n",
    "\n",
    "This problem can be solved with either two or four hypotheses. We will start with two hypotheses:  \n",
    "hypo 1: The red cap has red ink  \n",
    "hypo 2: The red cap does not have red ink  "
   ]
  },
  {
   "cell_type": "code",
   "execution_count": 5,
   "metadata": {
    "collapsed": false
   },
   "outputs": [],
   "source": [
    "class Pens2(Suite):\n",
    "\n",
    "    def Likelihood(self, data, hypo):\n",
    "        \"\"\"Computes the likelihood of `data` given `hypo`. In this case, we will only\n",
    "        update a single time with a single piece of data. This function servs as a place\n",
    "        for calculating likelihoods\n",
    "        \n",
    "        data: BcnBi\n",
    "        hypo: RcRi, RcnRi\n",
    "        \n",
    "        returns: float\n",
    "        \"\"\"\n",
    "        if hypo == 'RcRi':\n",
    "            return 2/3\n",
    "        if hypo == 'RcnRi':\n",
    "            return 7/9\n",
    "        else:\n",
    "            return 0 #hypotheses are wrong"
   ]
  },
  {
   "cell_type": "markdown",
   "metadata": {},
   "source": [
    "When we have two hypotheses, calculating the likelihood is a little bit tricky.  \n",
    "For our first hypothesis, RcRi, the probability that the black cap does not have black ink is 2/3. This is because two (G, V) out of 3 (G, V, B) pens are avaliable.  \n",
    "For the second hypothesis, RcnRi, the probability that the black cap does not have black ink is 7/9. To see why, let's break it up into 3 scenarios, the red cap has a violet, green, or black cap. If RcVi, then the black cap coudld have red, black or green ink (2 out of 3 pens). If RcGi, then the black cap could have red, black, or violet ink (2 our of three pens). If RcBi, then the black cap could have red, green or violet ink (3 out of 3 pens). In total, if RcnRi, then the probability that the black cap does not have black ink is (2 + 2 + 3)/(3 + 3 + 3) = 7/9"
   ]
  },
  {
   "cell_type": "code",
   "execution_count": null,
   "metadata": {
    "collapsed": true
   },
   "outputs": [],
   "source": []
  }
 ],
 "metadata": {
  "kernelspec": {
   "display_name": "Python 3",
   "language": "python",
   "name": "python3"
  },
  "language_info": {
   "codemirror_mode": {
    "name": "ipython",
    "version": 3
   },
   "file_extension": ".py",
   "mimetype": "text/x-python",
   "name": "python",
   "nbconvert_exporter": "python",
   "pygments_lexer": "ipython3",
   "version": "3.5.2"
  }
 },
 "nbformat": 4,
 "nbformat_minor": 1
}
